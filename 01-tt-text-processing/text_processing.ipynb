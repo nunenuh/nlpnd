{
 "cells": [
  {
   "cell_type": "markdown",
   "metadata": {},
   "source": [
    "# Text Processing\n",
    "\n",
    "## Capturing Text Data\n",
    "\n",
    "### Plain Text"
   ]
  },
  {
   "cell_type": "code",
   "execution_count": 1,
   "metadata": {},
   "outputs": [
    {
     "name": "stdout",
     "output_type": "stream",
     "text": [
      "Hieroglyphic writing dates from c. 3000 BC, and is composed of hundreds of symbols. A hieroglyph can represent a word, a sound, or a silent determinative; and the same symbol can serve different purposes in different contexts. Hieroglyphs were a formal script, used on stone monuments and in tombs, that could be as detailed as individual works of art.\n",
      "\n"
     ]
    }
   ],
   "source": [
    "import os\n",
    "\n",
    "# Read in a plain text file\n",
    "with open(os.path.join(\"data\", \"hieroglyph.txt\"), \"r\") as f:\n",
    "    text = f.read()\n",
    "    print(text)"
   ]
  },
  {
   "cell_type": "markdown",
   "metadata": {},
   "source": [
    "### Tabular Data"
   ]
  },
  {
   "cell_type": "code",
   "execution_count": 2,
   "metadata": {
    "scrolled": true
   },
   "outputs": [
    {
     "data": {
      "text/html": [
       "<div>\n",
       "<style scoped>\n",
       "    .dataframe tbody tr th:only-of-type {\n",
       "        vertical-align: middle;\n",
       "    }\n",
       "\n",
       "    .dataframe tbody tr th {\n",
       "        vertical-align: top;\n",
       "    }\n",
       "\n",
       "    .dataframe thead th {\n",
       "        text-align: right;\n",
       "    }\n",
       "</style>\n",
       "<table border=\"1\" class=\"dataframe\">\n",
       "  <thead>\n",
       "    <tr style=\"text-align: right;\">\n",
       "      <th></th>\n",
       "      <th>publisher</th>\n",
       "      <th>title</th>\n",
       "    </tr>\n",
       "  </thead>\n",
       "  <tbody>\n",
       "    <tr>\n",
       "      <th>0</th>\n",
       "      <td>Livemint</td>\n",
       "      <td>fed's charles plosser sees high bar for change...</td>\n",
       "    </tr>\n",
       "    <tr>\n",
       "      <th>1</th>\n",
       "      <td>IFA Magazine</td>\n",
       "      <td>us open: stocks fall after fed official hints ...</td>\n",
       "    </tr>\n",
       "    <tr>\n",
       "      <th>2</th>\n",
       "      <td>IFA Magazine</td>\n",
       "      <td>fed risks falling 'behind the curve', charles ...</td>\n",
       "    </tr>\n",
       "    <tr>\n",
       "      <th>3</th>\n",
       "      <td>Moneynews</td>\n",
       "      <td>fed's plosser: nasty weather has curbed job gr...</td>\n",
       "    </tr>\n",
       "    <tr>\n",
       "      <th>4</th>\n",
       "      <td>NASDAQ</td>\n",
       "      <td>plosser: fed may have to accelerate tapering pace</td>\n",
       "    </tr>\n",
       "  </tbody>\n",
       "</table>\n",
       "</div>"
      ],
      "text/plain": [
       "      publisher                                              title\n",
       "0      Livemint  fed's charles plosser sees high bar for change...\n",
       "1  IFA Magazine  us open: stocks fall after fed official hints ...\n",
       "2  IFA Magazine  fed risks falling 'behind the curve', charles ...\n",
       "3     Moneynews  fed's plosser: nasty weather has curbed job gr...\n",
       "4        NASDAQ  plosser: fed may have to accelerate tapering pace"
      ]
     },
     "execution_count": 2,
     "metadata": {},
     "output_type": "execute_result"
    }
   ],
   "source": [
    "import pandas as pd\n",
    "\n",
    "# Extract text column from a dataframe\n",
    "df = pd.read_csv(os.path.join(\"data\", \"news.csv\"))\n",
    "df.head()[['publisher', 'title']]\n",
    "\n",
    "# Convert text column to lowercase\n",
    "df['title'] = df['title'].str.lower()\n",
    "df.head()[['publisher', 'title']]"
   ]
  },
  {
   "cell_type": "markdown",
   "metadata": {},
   "source": [
    "### Online Resource"
   ]
  },
  {
   "cell_type": "code",
   "execution_count": 3,
   "metadata": {
    "scrolled": true
   },
   "outputs": [
    {
     "name": "stdout",
     "output_type": "stream",
     "text": [
      "{\n",
      "    \"success\": {\n",
      "        \"total\": 1\n",
      "    },\n",
      "    \"contents\": {\n",
      "        \"quotes\": [\n",
      "            {\n",
      "                \"quote\": \"From now on we live in a world where man has walked on the Moon. It's not a miracle; we just decided to go.\",\n",
      "                \"length\": \"107\",\n",
      "                \"author\": \"Tom Hanks\",\n",
      "                \"tags\": [\n",
      "                    \"humor\",\n",
      "                    \"inspire\",\n",
      "                    \"man\",\n",
      "                    \"miracles\",\n",
      "                    \"moon\"\n",
      "                ],\n",
      "                \"category\": \"inspire\",\n",
      "                \"language\": \"en\",\n",
      "                \"date\": \"2020-03-30\",\n",
      "                \"permalink\": \"https://theysaidso.com/quote/tom-hanks-from-now-on-we-live-in-a-world-where-man-has-walked-on-the-moon-its-no\",\n",
      "                \"id\": \"9rDc8ymrY7VZQHCUf6Xf1AeF\",\n",
      "                \"background\": \"https://theysaidso.com/img/qod/qod-inspire.jpg\",\n",
      "                \"title\": \"Inspiring Quote of the day\"\n",
      "            }\n",
      "        ]\n",
      "    },\n",
      "    \"baseurl\": \"https://theysaidso.com\",\n",
      "    \"copyright\": {\n",
      "        \"year\": 2022,\n",
      "        \"url\": \"https://theysaidso.com\"\n",
      "    }\n",
      "}\n",
      "From now on we live in a world where man has walked on the Moon. It's not a miracle; we just decided to go. \n",
      "-- Tom Hanks\n"
     ]
    }
   ],
   "source": [
    "import requests\n",
    "import json\n",
    "\n",
    "# Fetch data from a REST API\n",
    "r = requests.get(\n",
    "    \"https://quotes.rest/qod.json\")\n",
    "res = r.json()\n",
    "print(json.dumps(res, indent=4))\n",
    "\n",
    "# Extract relevant object and field\n",
    "q = res[\"contents\"][\"quotes\"][0]\n",
    "print(q[\"quote\"], \"\\n--\", q[\"author\"])"
   ]
  },
  {
   "cell_type": "markdown",
   "metadata": {},
   "source": [
    "## Cleaning"
   ]
  },
  {
   "cell_type": "code",
   "execution_count": 4,
   "metadata": {
    "scrolled": true
   },
   "outputs": [
    {
     "name": "stdout",
     "output_type": "stream",
     "text": [
      "<html op=\"news\"><head><meta name=\"referrer\" content=\"origin\"><meta name=\"viewport\" content=\"width=device-width, initial-scale=1.0\"><link rel=\"stylesheet\" type=\"text/css\" href=\"news.css?ryW9A4l3hsJvd6D7sOQl\">\n",
      "        <link rel=\"shortcut icon\" href=\"favicon.ico\">\n",
      "          <link rel=\"alternate\" type=\"application/rss+xml\" title=\"RSS\" href=\"rss\">\n",
      "        <title>Hacker News</title></head><body><center><table id=\"hnmain\" border=\"0\" cellpadding=\"0\" cellspacing=\"0\" width=\"85%\" bgcolor=\"#f6f6ef\">\n",
      "        <tr><td bgcolor=\"#ff6600\"><table border=\"0\" cellpadding=\"0\" cellspacing=\"0\" width=\"100%\" style=\"padding:2px\"><tr><td style=\"width:18px;padding-right:4px\"><a href=\"https://news.ycombinator.com\"><img src=\"y18.gif\" width=\"18\" height=\"18\" style=\"border:1px white solid;\"></a></td>\n",
      "                  <td style=\"line-height:12pt; height:10px;\"><span class=\"pagetop\"><b class=\"hnname\"><a href=\"news\">Hacker News</a></b>\n",
      "              <a href=\"newest\">new</a> | <a href=\"front\">past</a> | <a href=\"newcomments\">comments</a> | <a href=\"ask\">ask</a> | <a href=\"show\">show</a> | <a href=\"jobs\">jobs</a> | <a href=\"submit\">submit</a>            </span></td><td style=\"text-align:right;padding-right:4px;\"><span class=\"pagetop\">\n",
      "                              <a href=\"login?goto=news\">login</a>\n",
      "                          </span></td>\n",
      "              </tr></table></td></tr>\n",
      "<tr id=\"pagespace\" title=\"\" style=\"height:10px\"></tr><tr><td><table border=\"0\" cellpadding=\"0\" cellspacing=\"0\" class=\"itemlist\">\n",
      "              <tr class='athing' id='22730668'>\n",
      "      <td align=\"right\" valign=\"top\" class=\"title\"><span class=\"rank\">1.</span></td>      <td valign=\"top\" class=\"votelinks\"><center><a id='up_22730668' href='vote?id=22730668&amp;how=up&amp;goto=news'><div class='votearrow' title='upvote'></div></a></center></td><td class=\"title\"><a href=\"https://techcrunch.com/2020/03/30/wework-sells-off-social-network-meetup-to-alleycorp-and-other-investors/\" class=\"storylink\">WeWork sells Meetup</a><span class=\"sitebit comhead\"> (<a href=\"from?site=techcrunch.com\"><span class=\"sitestr\">techcrunch.com</span></a>)</span></td></tr><tr><td colspan=\"2\"></td><td class=\"subtext\">\n",
      "        <span class=\"score\" id=\"score_22730668\">105 points</span> by <a href=\"user?id=uptown\" class=\"hnuser\">uptown</a> <span class=\"age\"><a href=\"item?id=22730668\">1 hour ago</a></span> <span id=\"unv_22730668\"></span> | <a href=\"hide?id=22730668&amp;goto=news\">hide</a> | <a href=\"item?id=22730668\">56&nbsp;comments</a>              </td></tr>\n",
      "      <tr class=\"spacer\" style=\"height:5px\"></tr>\n",
      "                <tr class='athing' id='22727358'>\n",
      "      <td align=\"right\" valign=\"top\" class=\"title\"><span class=\"rank\">2.</span></td>      <td valign=\"top\" class=\"votelinks\"><center><a id='up_22727358' href='vote?id=22727358&amp;how=up&amp;goto=news'><div class='votearrow' title='upvote'></div></a></center></td><td class=\"title\"><a href=\"https://lore.kernel.org/wireguard/CAHmME9qOpDeraWo5rM31EWQW574KEduRBTL-+0A2ZyqBNDeYkg@mail.gmail.com/T/#u\" class=\"storylink\">WireGuard 1.0</a><span class=\"sitebit comhead\"> (<a href=\"from?site=kernel.org\"><span class=\"sitestr\">kernel.org</span></a>)</span></td></tr><tr><td colspan=\"2\"></td><td class=\"subtext\">\n",
      "        <span class=\"score\" id=\"score_22727358\">771 points</span> by <a href=\"user?id=iamd3vil\" class=\"hnuser\">iamd3vil</a> <span class=\"age\"><a href=\"item?id=22727358\">7 hours ago</a></span> <span id=\"unv_22727358\"></span> | <a href=\"hide?id=22727358&amp;goto=news\">hide</a> | <a href=\"item?id=22727358\">125&nbsp;comments</a>              </td></tr>\n",
      "      <tr class=\"spacer\" style=\"height:5px\"></tr>\n",
      "                <tr class='athing' id='22729399'>\n",
      "      <td align=\"right\" valign=\"top\" class=\"title\"><span class=\"rank\">3.</span></td>      <td valign=\"top\" class=\"votelinks\"><center><a id='up_22729399' href='vote?id=22729399&amp;how=up&amp;goto=news'><div class='votearrow' title='upvote'></div></a></center></td><td class=\"title\"><a href=\"https://news.artnet.com/art-world/thieves-stolen-van-gogh-masterpiece-dutch-museum-1819743\" class=\"storylink\">Dutch museum says van Gogh painting stolen in overnight raid</a><span class=\"sitebit comhead\"> (<a href=\"from?site=artnet.com\"><span class=\"sitestr\">artnet.com</span></a>)</span></td></tr><tr><td colspan=\"2\"></td><td class=\"subtext\">\n",
      "        <span class=\"score\" id=\"score_22729399\">129 points</span> by <a href=\"user?id=danso\" class=\"hnuser\">danso</a> <span class=\"age\"><a href=\"item?id=22729399\">3 hours ago</a></span> <span id=\"unv_22729399\"></span> | <a href=\"hide?id=22729399&amp;goto=news\">hide</a> | <a href=\"item?id=22729399\">92&nbsp;comments</a>              </td></tr>\n",
      "      <tr class=\"spacer\" style=\"height:5px\"></tr>\n",
      "                <tr class='athing' id='22729078'>\n",
      "      <td align=\"right\" valign=\"top\" class=\"title\"><span class=\"rank\">4.</span></td>      <td valign=\"top\" class=\"votelinks\"><center><a id='up_22729078' href='vote?id=22729078&amp;how=up&amp;goto=news'><div class='votearrow' title='upvote'></div></a></center></td><td class=\"title\"><a href=\"https://e-vent.mit.edu\" class=\"storylink\">E-VENT: Emergency ventilator design toolbox</a><span class=\"sitebit comhead\"> (<a href=\"from?site=mit.edu\"><span class=\"sitestr\">mit.edu</span></a>)</span></td></tr><tr><td colspan=\"2\"></td><td class=\"subtext\">\n",
      "        <span class=\"score\" id=\"score_22729078\">112 points</span> by <a href=\"user?id=zdw\" class=\"hnuser\">zdw</a> <span class=\"age\"><a href=\"item?id=22729078\">3 hours ago</a></span> <span id=\"unv_22729078\"></span> | <a href=\"hide?id=22729078&amp;goto=news\">hide</a> | <a href=\"item?id=22729078\">58&nbsp;comments</a>              </td></tr>\n",
      "      <tr class=\"spacer\" style=\"height:5px\"></tr>\n",
      "                <tr class='athing' id='22727985'>\n",
      "      <td align=\"right\" valign=\"top\" class=\"title\"><span class=\"rank\">5.</span></td>      <td valign=\"top\" class=\"votelinks\"><center><a id='up_22727985' href='vote?id=22727985&amp;how=up&amp;goto=news'><div class='votearrow' title='upvote'></div></a></center></td><td class=\"title\"><a href=\"https://os.phil-opp.com/async-await/\" class=\"storylink\">Writing an OS in Rust: Async/Await</a><span class=\"sitebit comhead\"> (<a href=\"from?site=phil-opp.com\"><span class=\"sitestr\">phil-opp.com</span></a>)</span></td></tr><tr><td colspan=\"2\"></td><td class=\"subtext\">\n",
      "        <span class=\"score\" id=\"score_22727985\">252 points</span> by <a href=\"user?id=phil-opp\" class=\"hnuser\">phil-opp</a> <span class=\"age\"><a href=\"item?id=22727985\">5 hours ago</a></span> <span id=\"unv_22727985\"></span> | <a href=\"hide?id=22727985&amp;goto=news\">hide</a> | <a href=\"item?id=22727985\">48&nbsp;comments</a>              </td></tr>\n",
      "      <tr class=\"spacer\" style=\"height:5px\"></tr>\n",
      "                <tr class='athing' id='22730292'>\n",
      "      <td align=\"right\" valign=\"top\" class=\"title\"><span class=\"rank\">6.</span></td>      <td valign=\"top\" class=\"votelinks\"><center><a id='up_22730292' href='vote?id=22730292&amp;how=up&amp;goto=news'><div class='votearrow' title='upvote'></div></a></center></td><td class=\"title\"><a href=\"https://blog.samaltman.com/please-fund-more-science\" class=\"storylink\">Please Fund More Science</a><span class=\"sitebit comhead\"> (<a href=\"from?site=samaltman.com\"><span class=\"sitestr\">samaltman.com</span></a>)</span></td></tr><tr><td colspan=\"2\"></td><td class=\"subtext\">\n",
      "        <span class=\"score\" id=\"score_22730292\">31 points</span> by <a href=\"user?id=davnicwil\" class=\"hnuser\">davnicwil</a> <span class=\"age\"><a href=\"item?id=22730292\">1 hour ago</a></span> <span id=\"unv_22730292\"></span> | <a href=\"hide?id=22730292&amp;goto=news\">hide</a> | <a href=\"item?id=22730292\">discuss</a>              </td></tr>\n",
      "      <tr class=\"spacer\" style=\"height:5px\"></tr>\n",
      "                <tr class='athing' id='22728639'>\n",
      "      <td align=\"right\" valign=\"top\" class=\"title\"><span class=\"rank\">7.</span></td>      <td valign=\"top\" class=\"votelinks\"><center><a id='up_22728639' href='vote?id=22728639&amp;how=up&amp;goto=news'><div class='votearrow' title='upvote'></div></a></center></td><td class=\"title\"><a href=\"https://www.bloomberg.com/news/articles/2020-03-30/-absolutely-crazy-air-cargo-fees-highlight-supply-chain-squeeze\" class=\"storylink\">Demand for medical equipment is making air cargo fees ‘crazy’</a><span class=\"sitebit comhead\"> (<a href=\"from?site=bloomberg.com\"><span class=\"sitestr\">bloomberg.com</span></a>)</span></td></tr><tr><td colspan=\"2\"></td><td class=\"subtext\">\n",
      "        <span class=\"score\" id=\"score_22728639\">113 points</span> by <a href=\"user?id=hhs\" class=\"hnuser\">hhs</a> <span class=\"age\"><a href=\"item?id=22728639\">4 hours ago</a></span> <span id=\"unv_22728639\"></span> | <a href=\"hide?id=22728639&amp;goto=news\">hide</a> | <a href=\"item?id=22728639\">86&nbsp;comments</a>              </td></tr>\n",
      "      <tr class=\"spacer\" style=\"height:5px\"></tr>\n",
      "                <tr class='athing' id='22718510'>\n",
      "      <td align=\"right\" valign=\"top\" class=\"title\"><span class=\"rank\">8.</span></td>      <td valign=\"top\" class=\"votelinks\"><center><a id='up_22718510' href='vote?id=22718510&amp;how=up&amp;goto=news'><div class='votearrow' title='upvote'></div></a></center></td><td class=\"title\"><a href=\"https://www.youtube.com/watch?v=YAPt_DcWAvw\" class=\"storylink\">Antique 4x5 camera creates 20 micron photolithography masks [video]</a><span class=\"sitebit comhead\"> (<a href=\"from?site=youtube.com\"><span class=\"sitestr\">youtube.com</span></a>)</span></td></tr><tr><td colspan=\"2\"></td><td class=\"subtext\">\n",
      "        <span class=\"score\" id=\"score_22718510\">23 points</span> by <a href=\"user?id=EvanAnderson\" class=\"hnuser\">EvanAnderson</a> <span class=\"age\"><a href=\"item?id=22718510\">1 hour ago</a></span> <span id=\"unv_22718510\"></span> | <a href=\"hide?id=22718510&amp;goto=news\">hide</a> | <a href=\"item?id=22718510\">discuss</a>              </td></tr>\n",
      "      <tr class=\"spacer\" style=\"height:5px\"></tr>\n",
      "                <tr class='athing' id='22728257'>\n",
      "      <td align=\"right\" valign=\"top\" class=\"title\"><span class=\"rank\">9.</span></td>      <td valign=\"top\" class=\"votelinks\"><center><a id='up_22728257' href='vote?id=22728257&amp;how=up&amp;goto=news'><div class='votearrow' title='upvote'></div></a></center></td><td class=\"title\"><a href=\"https://github.com/asyncapi/asyncapi\" class=\"storylink\">AsyncAPI – OpenAPI-like specification for event-driven architectures</a><span class=\"sitebit comhead\"> (<a href=\"from?site=github.com\"><span class=\"sitestr\">github.com</span></a>)</span></td></tr><tr><td colspan=\"2\"></td><td class=\"subtext\">\n",
      "        <span class=\"score\" id=\"score_22728257\">98 points</span> by <a href=\"user?id=derberg\" class=\"hnuser\">derberg</a> <span class=\"age\"><a href=\"item?id=22728257\">5 hours ago</a></span> <span id=\"unv_22728257\"></span> | <a href=\"hide?id=22728257&amp;goto=news\">hide</a> | <a href=\"item?id=22728257\">25&nbsp;comments</a>              </td></tr>\n",
      "      <tr class=\"spacer\" style=\"height:5px\"></tr>\n",
      "                <tr class='athing' id='22728971'>\n",
      "      <td align=\"right\" valign=\"top\" class=\"title\"><span class=\"rank\">10.</span></td>      <td valign=\"top\" class=\"votelinks\"><center><a id='up_22728971' href='vote?id=22728971&amp;how=up&amp;goto=news'><div class='votearrow' title='upvote'></div></a></center></td><td class=\"title\"><a href=\"https://www.bloomberg.com/news/features/2020-03-27/bosses-panic-buy-spy-software-to-keep-tabs-on-remote-workers\" class=\"storylink\">Bosses panic-buy spy software to keep tabs on remote workers</a><span class=\"sitebit comhead\"> (<a href=\"from?site=bloomberg.com\"><span class=\"sitestr\">bloomberg.com</span></a>)</span></td></tr><tr><td colspan=\"2\"></td><td class=\"subtext\">\n",
      "        <span class=\"score\" id=\"score_22728971\">334 points</span> by <a href=\"user?id=chatmasta\" class=\"hnuser\">chatmasta</a> <span class=\"age\"><a href=\"item?id=22728971\">3 hours ago</a></span> <span id=\"unv_22728971\"></span> | <a href=\"hide?id=22728971&amp;goto=news\">hide</a> | <a href=\"item?id=22728971\">246&nbsp;comments</a>              </td></tr>\n",
      "      <tr class=\"spacer\" style=\"height:5px\"></tr>\n",
      "                <tr class='athing' id='22731005'>\n",
      "      <td align=\"right\" valign=\"top\" class=\"title\"><span class=\"rank\">11.</span></td>      <td></td><td class=\"title\"><a href=\"https://www.dreamcraft.com/software-engineer-ui\" class=\"storylink\" rel=\"nofollow\">DreamCraft (YC S18) Is Hiring Full-Stack Engineers (SF Bay Area, Remote)</a><span class=\"sitebit comhead\"> (<a href=\"from?site=dreamcraft.com\"><span class=\"sitestr\">dreamcraft.com</span></a>)</span></td></tr><tr><td colspan=\"2\"></td><td class=\"subtext\">\n",
      "        <span class=\"age\"><a href=\"item?id=22731005\">41 minutes ago</a></span> | <a href=\"hide?id=22731005&amp;goto=news\">hide</a>      </td></tr>\n",
      "      <tr class=\"spacer\" style=\"height:5px\"></tr>\n",
      "                <tr class='athing' id='22725274'>\n",
      "      <td align=\"right\" valign=\"top\" class=\"title\"><span class=\"rank\">12.</span></td>      <td valign=\"top\" class=\"votelinks\"><center><a id='up_22725274' href='vote?id=22725274&amp;how=up&amp;goto=news'><div class='votearrow' title='upvote'></div></a></center></td><td class=\"title\"><a href=\"https://narratively.com/the-acrobatic-immigrant-who-invented-pilates-in-a-prisoner-of-war-camp/\" class=\"storylink\">Joseph Pilates worked on his exercise system in a WWI prisoner-of-war camp</a><span class=\"sitebit comhead\"> (<a href=\"from?site=narratively.com\"><span class=\"sitestr\">narratively.com</span></a>)</span></td></tr><tr><td colspan=\"2\"></td><td class=\"subtext\">\n",
      "        <span class=\"score\" id=\"score_22725274\">80 points</span> by <a href=\"user?id=apollinaire\" class=\"hnuser\">apollinaire</a> <span class=\"age\"><a href=\"item?id=22725274\">5 hours ago</a></span> <span id=\"unv_22725274\"></span> | <a href=\"hide?id=22725274&amp;goto=news\">hide</a> | <a href=\"item?id=22725274\">discuss</a>              </td></tr>\n",
      "      <tr class=\"spacer\" style=\"height:5px\"></tr>\n",
      "                <tr class='athing' id='22726512'>\n",
      "      <td align=\"right\" valign=\"top\" class=\"title\"><span class=\"rank\">13.</span></td>      <td valign=\"top\" class=\"votelinks\"><center><a id='up_22726512' href='vote?id=22726512&amp;how=up&amp;goto=news'><div class='votearrow' title='upvote'></div></a></center></td><td class=\"title\"><a href=\"http://blog.vmchale.com/article/ats-safe-pointers\" class=\"storylink\">Type-Safe Pointers in ATS</a><span class=\"sitebit comhead\"> (<a href=\"from?site=vmchale.com\"><span class=\"sitestr\">vmchale.com</span></a>)</span></td></tr><tr><td colspan=\"2\"></td><td class=\"subtext\">\n",
      "        <span class=\"score\" id=\"score_22726512\">25 points</span> by <a href=\"user?id=lelf\" class=\"hnuser\">lelf</a> <span class=\"age\"><a href=\"item?id=22726512\">2 hours ago</a></span> <span id=\"unv_22726512\"></span> | <a href=\"hide?id=22726512&amp;goto=news\">hide</a> | <a href=\"item?id=22726512\">discuss</a>              </td></tr>\n",
      "      <tr class=\"spacer\" style=\"height:5px\"></tr>\n",
      "                <tr class='athing' id='22730478'>\n",
      "      <td align=\"right\" valign=\"top\" class=\"title\"><span class=\"rank\">14.</span></td>      <td valign=\"top\" class=\"votelinks\"><center><a id='up_22730478' href='vote?id=22730478&amp;how=up&amp;goto=news'><div class='votearrow' title='upvote'></div></a></center></td><td class=\"title\"><a href=\"https://www.macrumors.com/2020/03/30/apple-work-from-home-challenges/\" class=\"storylink\" rel=\"nofollow\">How Apple's Culture of Secrecy Poses Challenges for Working from Home</a><span class=\"sitebit comhead\"> (<a href=\"from?site=macrumors.com\"><span class=\"sitestr\">macrumors.com</span></a>)</span></td></tr><tr><td colspan=\"2\"></td><td class=\"subtext\">\n",
      "        <span class=\"score\" id=\"score_22730478\">11 points</span> by <a href=\"user?id=aaronbrethorst\" class=\"hnuser\">aaronbrethorst</a> <span class=\"age\"><a href=\"item?id=22730478\">42 minutes ago</a></span> <span id=\"unv_22730478\"></span> | <a href=\"hide?id=22730478&amp;goto=news\">hide</a> | <a href=\"item?id=22730478\">3&nbsp;comments</a>              </td></tr>\n",
      "      <tr class=\"spacer\" style=\"height:5px\"></tr>\n",
      "                <tr class='athing' id='22729275'>\n",
      "      <td align=\"right\" valign=\"top\" class=\"title\"><span class=\"rank\">15.</span></td>      <td valign=\"top\" class=\"votelinks\"><center><a id='up_22729275' href='vote?id=22729275&amp;how=up&amp;goto=news'><div class='votearrow' title='upvote'></div></a></center></td><td class=\"title\"><a href=\"https://crdt.tech/\" class=\"storylink\">About CRDTs</a><span class=\"sitebit comhead\"> (<a href=\"from?site=crdt.tech\"><span class=\"sitestr\">crdt.tech</span></a>)</span></td></tr><tr><td colspan=\"2\"></td><td class=\"subtext\">\n",
      "        <span class=\"score\" id=\"score_22729275\">100 points</span> by <a href=\"user?id=adamnemecek\" class=\"hnuser\">adamnemecek</a> <span class=\"age\"><a href=\"item?id=22729275\">3 hours ago</a></span> <span id=\"unv_22729275\"></span> | <a href=\"hide?id=22729275&amp;goto=news\">hide</a> | <a href=\"item?id=22729275\">12&nbsp;comments</a>              </td></tr>\n",
      "      <tr class=\"spacer\" style=\"height:5px\"></tr>\n",
      "                <tr class='athing' id='22725651'>\n",
      "      <td align=\"right\" valign=\"top\" class=\"title\"><span class=\"rank\">16.</span></td>      <td valign=\"top\" class=\"votelinks\"><center><a id='up_22725651' href='vote?id=22725651&amp;how=up&amp;goto=news'><div class='votearrow' title='upvote'></div></a></center></td><td class=\"title\"><a href=\"https://gifcap.dev/\" class=\"storylink\">Show HN: Gifcap, a browser based client-side GIF screen recording tool</a><span class=\"sitebit comhead\"> (<a href=\"from?site=gifcap.dev\"><span class=\"sitestr\">gifcap.dev</span></a>)</span></td></tr><tr><td colspan=\"2\"></td><td class=\"subtext\">\n",
      "        <span class=\"score\" id=\"score_22725651\">125 points</span> by <a href=\"user?id=joaomoreno\" class=\"hnuser\">joaomoreno</a> <span class=\"age\"><a href=\"item?id=22725651\">6 hours ago</a></span> <span id=\"unv_22725651\"></span> | <a href=\"hide?id=22725651&amp;goto=news\">hide</a> | <a href=\"item?id=22725651\">38&nbsp;comments</a>              </td></tr>\n",
      "      <tr class=\"spacer\" style=\"height:5px\"></tr>\n",
      "                <tr class='athing' id='22729819'>\n",
      "      <td align=\"right\" valign=\"top\" class=\"title\"><span class=\"rank\">17.</span></td>      <td valign=\"top\" class=\"votelinks\"><center><a id='up_22729819' href='vote?id=22729819&amp;how=up&amp;goto=news'><div class='votearrow' title='upvote'></div></a></center></td><td class=\"title\"><a href=\"https://www.npr.org/2020/03/30/823767492/amazon-instacart-grocery-delivery-workers-strike-for-coronavirus-protection-and-\" class=\"storylink\">Amazon, Instacart delivery workers strike for coronavirus protection and pay</a><span class=\"sitebit comhead\"> (<a href=\"from?site=npr.org\"><span class=\"sitestr\">npr.org</span></a>)</span></td></tr><tr><td colspan=\"2\"></td><td class=\"subtext\">\n",
      "        <span class=\"score\" id=\"score_22729819\">243 points</span> by <a href=\"user?id=onewhonknocks\" class=\"hnuser\">onewhonknocks</a> <span class=\"age\"><a href=\"item?id=22729819\">2 hours ago</a></span> <span id=\"unv_22729819\"></span> | <a href=\"hide?id=22729819&amp;goto=news\">hide</a> | <a href=\"item?id=22729819\">184&nbsp;comments</a>              </td></tr>\n",
      "      <tr class=\"spacer\" style=\"height:5px\"></tr>\n",
      "                <tr class='athing' id='22727837'>\n",
      "      <td align=\"right\" valign=\"top\" class=\"title\"><span class=\"rank\">18.</span></td>      <td valign=\"top\" class=\"votelinks\"><center><a id='up_22727837' href='vote?id=22727837&amp;how=up&amp;goto=news'><div class='votearrow' title='upvote'></div></a></center></td><td class=\"title\"><a href=\"https://www.quantamagazine.org/why-do-matter-particles-come-in-threes-a-physics-titan-weighs-in-20200330/\" class=\"storylink\">Why Do Matter Particles Come in Threes?</a><span class=\"sitebit comhead\"> (<a href=\"from?site=quantamagazine.org\"><span class=\"sitestr\">quantamagazine.org</span></a>)</span></td></tr><tr><td colspan=\"2\"></td><td class=\"subtext\">\n",
      "        <span class=\"score\" id=\"score_22727837\">51 points</span> by <a href=\"user?id=theafh\" class=\"hnuser\">theafh</a> <span class=\"age\"><a href=\"item?id=22727837\">4 hours ago</a></span> <span id=\"unv_22727837\"></span> | <a href=\"hide?id=22727837&amp;goto=news\">hide</a> | <a href=\"item?id=22727837\">23&nbsp;comments</a>              </td></tr>\n",
      "      <tr class=\"spacer\" style=\"height:5px\"></tr>\n",
      "                <tr class='athing' id='22730890'>\n",
      "      <td align=\"right\" valign=\"top\" class=\"title\"><span class=\"rank\">19.</span></td>      <td valign=\"top\" class=\"votelinks\"><center><a id='up_22730890' href='vote?id=22730890&amp;how=up&amp;goto=news'><div class='votearrow' title='upvote'></div></a></center></td><td class=\"title\"><a href=\"https://www.smithsonianmag.com/smart-news/listen-moment-guns-fell-silent-ending-world-war-i-180970772/\" class=\"storylink\" rel=\"nofollow\">Listen to the Moment the Guns Fell Silent Ending World War I</a><span class=\"sitebit comhead\"> (<a href=\"from?site=smithsonianmag.com\"><span class=\"sitestr\">smithsonianmag.com</span></a>)</span></td></tr><tr><td colspan=\"2\"></td><td class=\"subtext\">\n",
      "        <span class=\"score\" id=\"score_22730890\">10 points</span> by <a href=\"user?id=d0mdo0ss\" class=\"hnuser\">d0mdo0ss</a> <span class=\"age\"><a href=\"item?id=22730890\">50 minutes ago</a></span> <span id=\"unv_22730890\"></span> | <a href=\"hide?id=22730890&amp;goto=news\">hide</a> | <a href=\"item?id=22730890\">1&nbsp;comment</a>              </td></tr>\n",
      "      <tr class=\"spacer\" style=\"height:5px\"></tr>\n",
      "                <tr class='athing' id='22728142'>\n",
      "      <td align=\"right\" valign=\"top\" class=\"title\"><span class=\"rank\">20.</span></td>      <td valign=\"top\" class=\"votelinks\"><center><a id='up_22728142' href='vote?id=22728142&amp;how=up&amp;goto=news'><div class='votearrow' title='upvote'></div></a></center></td><td class=\"title\"><a href=\"https://www.acm.org/articles/bulletins/2020/march/dl-access-during-covid-19\" class=\"storylink\">Open Access to ACM Digital Library During Coronavirus Pandemic</a><span class=\"sitebit comhead\"> (<a href=\"from?site=acm.org\"><span class=\"sitestr\">acm.org</span></a>)</span></td></tr><tr><td colspan=\"2\"></td><td class=\"subtext\">\n",
      "        <span class=\"score\" id=\"score_22728142\">143 points</span> by <a href=\"user?id=scott_s\" class=\"hnuser\">scott_s</a> <span class=\"age\"><a href=\"item?id=22728142\">5 hours ago</a></span> <span id=\"unv_22728142\"></span> | <a href=\"hide?id=22728142&amp;goto=news\">hide</a> | <a href=\"item?id=22728142\">29&nbsp;comments</a>              </td></tr>\n",
      "      <tr class=\"spacer\" style=\"height:5px\"></tr>\n",
      "                <tr class='athing' id='22728030'>\n",
      "      <td align=\"right\" valign=\"top\" class=\"title\"><span class=\"rank\">21.</span></td>      <td valign=\"top\" class=\"votelinks\"><center><a id='up_22728030' href='vote?id=22728030&amp;how=up&amp;goto=news'><div class='votearrow' title='upvote'></div></a></center></td><td class=\"title\"><a href=\"https://www.latimes.com/world-nation/story/2020-03-30/blissful-ignorance-submariners-likely-unaware-of-pandemic\" class=\"storylink\">Deep underwater, French submariners are likely unaware of pandemic</a><span class=\"sitebit comhead\"> (<a href=\"from?site=latimes.com\"><span class=\"sitestr\">latimes.com</span></a>)</span></td></tr><tr><td colspan=\"2\"></td><td class=\"subtext\">\n",
      "        <span class=\"score\" id=\"score_22728030\">145 points</span> by <a href=\"user?id=ilamont\" class=\"hnuser\">ilamont</a> <span class=\"age\"><a href=\"item?id=22728030\">5 hours ago</a></span> <span id=\"unv_22728030\"></span> | <a href=\"hide?id=22728030&amp;goto=news\">hide</a> | <a href=\"item?id=22728030\">79&nbsp;comments</a>              </td></tr>\n",
      "      <tr class=\"spacer\" style=\"height:5px\"></tr>\n",
      "                <tr class='athing' id='22728798'>\n",
      "      <td align=\"right\" valign=\"top\" class=\"title\"><span class=\"rank\">22.</span></td>      <td valign=\"top\" class=\"votelinks\"><center><a id='up_22728798' href='vote?id=22728798&amp;how=up&amp;goto=news'><div class='votearrow' title='upvote'></div></a></center></td><td class=\"title\"><a href=\"http://www.idahoreporter.com/2020/macys-to-furlough-100000-employees/\" class=\"storylink\">Macy’s to Furlough 100k Employees</a><span class=\"sitebit comhead\"> (<a href=\"from?site=idahoreporter.com\"><span class=\"sitestr\">idahoreporter.com</span></a>)</span></td></tr><tr><td colspan=\"2\"></td><td class=\"subtext\">\n",
      "        <span class=\"score\" id=\"score_22728798\">122 points</span> by <a href=\"user?id=Lagogarda\" class=\"hnuser\">Lagogarda</a> <span class=\"age\"><a href=\"item?id=22728798\">4 hours ago</a></span> <span id=\"unv_22728798\"></span> | <a href=\"hide?id=22728798&amp;goto=news\">hide</a> | <a href=\"item?id=22728798\">66&nbsp;comments</a>              </td></tr>\n",
      "      <tr class=\"spacer\" style=\"height:5px\"></tr>\n",
      "                <tr class='athing' id='22726416'>\n",
      "      <td align=\"right\" valign=\"top\" class=\"title\"><span class=\"rank\">23.</span></td>      <td valign=\"top\" class=\"votelinks\"><center><a id='up_22726416' href='vote?id=22726416&amp;how=up&amp;goto=news'><div class='votearrow' title='upvote'></div></a></center></td><td class=\"title\"><a href=\"https://lore.kernel.org/lkml/CAHk-=wi9ZT7Stg-uSpX0UWQzam6OP9Jzz6Xu1CkYu1cicpD5OA@mail.gmail.com/\" class=\"storylink\">Linux 5.6</a><span class=\"sitebit comhead\"> (<a href=\"from?site=kernel.org\"><span class=\"sitestr\">kernel.org</span></a>)</span></td></tr><tr><td colspan=\"2\"></td><td class=\"subtext\">\n",
      "        <span class=\"score\" id=\"score_22726416\">423 points</span> by <a href=\"user?id=SomeSnail\" class=\"hnuser\">SomeSnail</a> <span class=\"age\"><a href=\"item?id=22726416\">10 hours ago</a></span> <span id=\"unv_22726416\"></span> | <a href=\"hide?id=22726416&amp;goto=news\">hide</a> | <a href=\"item?id=22726416\">114&nbsp;comments</a>              </td></tr>\n",
      "      <tr class=\"spacer\" style=\"height:5px\"></tr>\n",
      "                <tr class='athing' id='22729028'>\n",
      "      <td align=\"right\" valign=\"top\" class=\"title\"><span class=\"rank\">24.</span></td>      <td valign=\"top\" class=\"votelinks\"><center><a id='up_22729028' href='vote?id=22729028&amp;how=up&amp;goto=news'><div class='votearrow' title='upvote'></div></a></center></td><td class=\"title\"><a href=\"https://www.aaronkharris.com/asking-questions\" class=\"storylink\">Asking Questions</a><span class=\"sitebit comhead\"> (<a href=\"from?site=aaronkharris.com\"><span class=\"sitestr\">aaronkharris.com</span></a>)</span></td></tr><tr><td colspan=\"2\"></td><td class=\"subtext\">\n",
      "        <span class=\"score\" id=\"score_22729028\">16 points</span> by <a href=\"user?id=akharris\" class=\"hnuser\">akharris</a> <span class=\"age\"><a href=\"item?id=22729028\">3 hours ago</a></span> <span id=\"unv_22729028\"></span> | <a href=\"hide?id=22729028&amp;goto=news\">hide</a> | <a href=\"item?id=22729028\">1&nbsp;comment</a>              </td></tr>\n",
      "      <tr class=\"spacer\" style=\"height:5px\"></tr>\n",
      "                <tr class='athing' id='22728049'>\n",
      "      <td align=\"right\" valign=\"top\" class=\"title\"><span class=\"rank\">25.</span></td>      <td valign=\"top\" class=\"votelinks\"><center><a id='up_22728049' href='vote?id=22728049&amp;how=up&amp;goto=news'><div class='votearrow' title='upvote'></div></a></center></td><td class=\"title\"><a href=\"https://www.quiverquant.com/covidtreatments\" class=\"storylink\">Show HN: Covid-19 Treatment Dashboard</a><span class=\"sitebit comhead\"> (<a href=\"from?site=quiverquant.com\"><span class=\"sitestr\">quiverquant.com</span></a>)</span></td></tr><tr><td colspan=\"2\"></td><td class=\"subtext\">\n",
      "        <span class=\"score\" id=\"score_22728049\">97 points</span> by <a href=\"user?id=greatwave1\" class=\"hnuser\">greatwave1</a> <span class=\"age\"><a href=\"item?id=22728049\">5 hours ago</a></span> <span id=\"unv_22728049\"></span> | <a href=\"hide?id=22728049&amp;goto=news\">hide</a> | <a href=\"item?id=22728049\">27&nbsp;comments</a>              </td></tr>\n",
      "      <tr class=\"spacer\" style=\"height:5px\"></tr>\n",
      "                <tr class='athing' id='22717367'>\n",
      "      <td align=\"right\" valign=\"top\" class=\"title\"><span class=\"rank\">26.</span></td>      <td valign=\"top\" class=\"votelinks\"><center><a id='up_22717367' href='vote?id=22717367&amp;how=up&amp;goto=news'><div class='votearrow' title='upvote'></div></a></center></td><td class=\"title\"><a href=\"https://blog.cerebralab.com/When_to_assume_neural_networks_can_solve_a_problem\" class=\"storylink\">When to assume neural networks can solve a problem</a><span class=\"sitebit comhead\"> (<a href=\"from?site=cerebralab.com\"><span class=\"sitestr\">cerebralab.com</span></a>)</span></td></tr><tr><td colspan=\"2\"></td><td class=\"subtext\">\n",
      "        <span class=\"score\" id=\"score_22717367\">117 points</span> by <a href=\"user?id=george3d6\" class=\"hnuser\">george3d6</a> <span class=\"age\"><a href=\"item?id=22717367\">10 hours ago</a></span> <span id=\"unv_22717367\"></span> | <a href=\"hide?id=22717367&amp;goto=news\">hide</a> | <a href=\"item?id=22717367\">30&nbsp;comments</a>              </td></tr>\n",
      "      <tr class=\"spacer\" style=\"height:5px\"></tr>\n",
      "                <tr class='athing' id='22729876'>\n",
      "      <td align=\"right\" valign=\"top\" class=\"title\"><span class=\"rank\">27.</span></td>      <td valign=\"top\" class=\"votelinks\"><center><a id='up_22729876' href='vote?id=22729876&amp;how=up&amp;goto=news'><div class='votearrow' title='upvote'></div></a></center></td><td class=\"title\"><a href=\"https://microconf.com/latest/covid-19-business-relief-overview\" class=\"storylink\">Covid-19 business relief: an overview for startups, consultants, freelancers</a><span class=\"sitebit comhead\"> (<a href=\"from?site=microconf.com\"><span class=\"sitestr\">microconf.com</span></a>)</span></td></tr><tr><td colspan=\"2\"></td><td class=\"subtext\">\n",
      "        <span class=\"score\" id=\"score_22729876\">39 points</span> by <a href=\"user?id=rwalling\" class=\"hnuser\">rwalling</a> <span class=\"age\"><a href=\"item?id=22729876\">2 hours ago</a></span> <span id=\"unv_22729876\"></span> | <a href=\"hide?id=22729876&amp;goto=news\">hide</a> | <a href=\"item?id=22729876\">3&nbsp;comments</a>              </td></tr>\n",
      "      <tr class=\"spacer\" style=\"height:5px\"></tr>\n",
      "                <tr class='athing' id='22726481'>\n",
      "      <td align=\"right\" valign=\"top\" class=\"title\"><span class=\"rank\">28.</span></td>      <td valign=\"top\" class=\"votelinks\"><center><a id='up_22726481' href='vote?id=22726481&amp;how=up&amp;goto=news'><div class='votearrow' title='upvote'></div></a></center></td><td class=\"title\"><a href=\"http://morrick.me/archives/8840\" class=\"storylink\">Yes to everything</a><span class=\"sitebit comhead\"> (<a href=\"from?site=morrick.me\"><span class=\"sitestr\">morrick.me</span></a>)</span></td></tr><tr><td colspan=\"2\"></td><td class=\"subtext\">\n",
      "        <span class=\"score\" id=\"score_22726481\">63 points</span> by <a href=\"user?id=wyclif\" class=\"hnuser\">wyclif</a> <span class=\"age\"><a href=\"item?id=22726481\">6 hours ago</a></span> <span id=\"unv_22726481\"></span> | <a href=\"hide?id=22726481&amp;goto=news\">hide</a> | <a href=\"item?id=22726481\">31&nbsp;comments</a>              </td></tr>\n",
      "      <tr class=\"spacer\" style=\"height:5px\"></tr>\n",
      "                <tr class='athing' id='22729586'>\n",
      "      <td align=\"right\" valign=\"top\" class=\"title\"><span class=\"rank\">29.</span></td>      <td valign=\"top\" class=\"votelinks\"><center><a id='up_22729586' href='vote?id=22729586&amp;how=up&amp;goto=news'><div class='votearrow' title='upvote'></div></a></center></td><td class=\"title\"><a href=\"http://www.paulgraham.com/writing44.html\" class=\"storylink\">Writing, Briefly (2005)</a><span class=\"sitebit comhead\"> (<a href=\"from?site=paulgraham.com\"><span class=\"sitestr\">paulgraham.com</span></a>)</span></td></tr><tr><td colspan=\"2\"></td><td class=\"subtext\">\n",
      "        <span class=\"score\" id=\"score_22729586\">19 points</span> by <a href=\"user?id=lihaciudaniel\" class=\"hnuser\">lihaciudaniel</a> <span class=\"age\"><a href=\"item?id=22729586\">2 hours ago</a></span> <span id=\"unv_22729586\"></span> | <a href=\"hide?id=22729586&amp;goto=news\">hide</a> | <a href=\"item?id=22729586\">6&nbsp;comments</a>              </td></tr>\n",
      "      <tr class=\"spacer\" style=\"height:5px\"></tr>\n",
      "                <tr class='athing' id='22718405'>\n",
      "      <td align=\"right\" valign=\"top\" class=\"title\"><span class=\"rank\">30.</span></td>      <td valign=\"top\" class=\"votelinks\"><center><a id='up_22718405' href='vote?id=22718405&amp;how=up&amp;goto=news'><div class='votearrow' title='upvote'></div></a></center></td><td class=\"title\"><a href=\"https://github.com/pkamenarsky/concur-static\" class=\"storylink\">Generate semi-dynamic UIs with Haskell</a><span class=\"sitebit comhead\"> (<a href=\"from?site=github.com\"><span class=\"sitestr\">github.com</span></a>)</span></td></tr><tr><td colspan=\"2\"></td><td class=\"subtext\">\n",
      "        <span class=\"score\" id=\"score_22718405\">56 points</span> by <a href=\"user?id=pka\" class=\"hnuser\">pka</a> <span class=\"age\"><a href=\"item?id=22718405\">7 hours ago</a></span> <span id=\"unv_22718405\"></span> | <a href=\"hide?id=22718405&amp;goto=news\">hide</a> | <a href=\"item?id=22718405\">13&nbsp;comments</a>              </td></tr>\n",
      "      <tr class=\"spacer\" style=\"height:5px\"></tr>\n",
      "            <tr class=\"morespace\" style=\"height:10px\"></tr><tr><td colspan=\"2\"></td><td class=\"title\"><a href=\"news?p=2\" class=\"morelink\" rel=\"next\">More</a></td></tr>\n",
      "  </table>\n",
      "</td></tr>\n",
      "<tr><td><img src=\"s.gif\" height=\"10\" width=\"0\"><table width=\"100%\" cellspacing=\"0\" cellpadding=\"1\"><tr><td bgcolor=\"#ff6600\"></td></tr></table><br><center><span class=\"yclinks\"><a href=\"newsguidelines.html\">Guidelines</a>\n",
      "        | <a href=\"newsfaq.html\">FAQ</a>\n",
      "        | <a href=\"mailto:hn@ycombinator.com\">Support</a>\n",
      "        | <a href=\"https://github.com/HackerNews/API\">API</a>\n",
      "        | <a href=\"security.html\">Security</a>\n",
      "        | <a href=\"lists\">Lists</a>\n",
      "        | <a href=\"bookmarklet.html\" rel=\"nofollow\">Bookmarklet</a>\n",
      "        | <a href=\"http://www.ycombinator.com/legal/\">Legal</a>\n",
      "        | <a href=\"http://www.ycombinator.com/apply/\">Apply to YC</a>\n",
      "        | <a href=\"mailto:hn@ycombinator.com\">Contact</a></span><br><br><form method=\"get\" action=\"//hn.algolia.com/\">Search:\n",
      "          <input type=\"text\" name=\"q\" value=\"\" size=\"17\" autocorrect=\"off\" spellcheck=\"false\" autocapitalize=\"off\" autocomplete=\"false\"></form>\n",
      "            </center></td></tr>\n",
      "      </table></center></body><script type='text/javascript' src='hn.js?ryW9A4l3hsJvd6D7sOQl'></script></html>\n",
      "\n"
     ]
    }
   ],
   "source": [
    "import requests\n",
    "\n",
    "# Fetch a web page\n",
    "r = requests.get(\"https://news.ycombinator.com\")\n",
    "print(r.text)"
   ]
  },
  {
   "cell_type": "code",
   "execution_count": 5,
   "metadata": {},
   "outputs": [
    {
     "name": "stdout",
     "output_type": "stream",
     "text": [
      "\n",
      "        \n",
      "          \n",
      "        Hacker News\n",
      "        \n",
      "                  Hacker News\n",
      "              new | past | comments | ask | show | jobs | submit            \n",
      "                              login\n",
      "                          \n",
      "              \n",
      "\n",
      "              \n",
      "      1.      WeWork sells Meetup (techcrunch.com)\n",
      "        105 points by uptown 1 hour ago  | hide | 56&nbsp;comments              \n",
      "      \n",
      "                \n",
      "      2.      WireGuard 1.0 (kernel.org)\n",
      "        771 points by iamd3vil 7 hours ago  | hide | 125&nbsp;comments              \n",
      "      \n",
      "                \n",
      "      3.      Dutch museum says van Gogh painting stolen in overnight raid (artnet.com)\n",
      "        129 points by danso 3 hours ago  | hide | 92&nbsp;comments              \n",
      "      \n",
      "                \n",
      "      4.      E-VENT: Emergency ventilator design toolbox (mit.edu)\n",
      "        112 points by zdw 3 hours ago  | hide | 58&nbsp;comments              \n",
      "      \n",
      "                \n",
      "      5.      Writing an OS in Rust: Async/Await (phil-opp.com)\n",
      "        252 points by phil-opp 5 hours ago  | hide | 48&nbsp;comments              \n",
      "      \n",
      "                \n",
      "      6.      Please Fund More Science (samaltman.com)\n",
      "        31 points by davnicwil 1 hour ago  | hide | discuss              \n",
      "      \n",
      "                \n",
      "      7.      Demand for medical equipment is making air cargo fees ‘crazy’ (bloomberg.com)\n",
      "        113 points by hhs 4 hours ago  | hide | 86&nbsp;comments              \n",
      "      \n",
      "                \n",
      "      8.      Antique 4x5 camera creates 20 micron photolithography masks [video] (youtube.com)\n",
      "        23 points by EvanAnderson 1 hour ago  | hide | discuss              \n",
      "      \n",
      "                \n",
      "      9.      AsyncAPI – OpenAPI-like specification for event-driven architectures (github.com)\n",
      "        98 points by derberg 5 hours ago  | hide | 25&nbsp;comments              \n",
      "      \n",
      "                \n",
      "      10.      Bosses panic-buy spy software to keep tabs on remote workers (bloomberg.com)\n",
      "        334 points by chatmasta 3 hours ago  | hide | 246&nbsp;comments              \n",
      "      \n",
      "                \n",
      "      11.      DreamCraft (YC S18) Is Hiring Full-Stack Engineers (SF Bay Area, Remote) (dreamcraft.com)\n",
      "        41 minutes ago | hide      \n",
      "      \n",
      "                \n",
      "      12.      Joseph Pilates worked on his exercise system in a WWI prisoner-of-war camp (narratively.com)\n",
      "        80 points by apollinaire 5 hours ago  | hide | discuss              \n",
      "      \n",
      "                \n",
      "      13.      Type-Safe Pointers in ATS (vmchale.com)\n",
      "        25 points by lelf 2 hours ago  | hide | discuss              \n",
      "      \n",
      "                \n",
      "      14.      How Apple's Culture of Secrecy Poses Challenges for Working from Home (macrumors.com)\n",
      "        11 points by aaronbrethorst 42 minutes ago  | hide | 3&nbsp;comments              \n",
      "      \n",
      "                \n",
      "      15.      About CRDTs (crdt.tech)\n",
      "        100 points by adamnemecek 3 hours ago  | hide | 12&nbsp;comments              \n",
      "      \n",
      "                \n",
      "      16.      Show HN: Gifcap, a browser based client-side GIF screen recording tool (gifcap.dev)\n",
      "        125 points by joaomoreno 6 hours ago  | hide | 38&nbsp;comments              \n",
      "      \n",
      "                \n",
      "      17.      Amazon, Instacart delivery workers strike for coronavirus protection and pay (npr.org)\n",
      "        243 points by onewhonknocks 2 hours ago  | hide | 184&nbsp;comments              \n",
      "      \n",
      "                \n",
      "      18.      Why Do Matter Particles Come in Threes? (quantamagazine.org)\n",
      "        51 points by theafh 4 hours ago  | hide | 23&nbsp;comments              \n",
      "      \n",
      "                \n",
      "      19.      Listen to the Moment the Guns Fell Silent Ending World War I (smithsonianmag.com)\n",
      "        10 points by d0mdo0ss 50 minutes ago  | hide | 1&nbsp;comment              \n",
      "      \n",
      "                \n",
      "      20.      Open Access to ACM Digital Library During Coronavirus Pandemic (acm.org)\n",
      "        143 points by scott_s 5 hours ago  | hide | 29&nbsp;comments              \n",
      "      \n",
      "                \n",
      "      21.      Deep underwater, French submariners are likely unaware of pandemic (latimes.com)\n",
      "        145 points by ilamont 5 hours ago  | hide | 79&nbsp;comments              \n",
      "      \n",
      "                \n",
      "      22.      Macy’s to Furlough 100k Employees (idahoreporter.com)\n",
      "        122 points by Lagogarda 4 hours ago  | hide | 66&nbsp;comments              \n",
      "      \n",
      "                \n",
      "      23.      Linux 5.6 (kernel.org)\n",
      "        423 points by SomeSnail 10 hours ago  | hide | 114&nbsp;comments              \n",
      "      \n",
      "                \n",
      "      24.      Asking Questions (aaronkharris.com)\n",
      "        16 points by akharris 3 hours ago  | hide | 1&nbsp;comment              \n",
      "      \n",
      "                \n",
      "      25.      Show HN: Covid-19 Treatment Dashboard (quiverquant.com)\n",
      "        97 points by greatwave1 5 hours ago  | hide | 27&nbsp;comments              \n",
      "      \n",
      "                \n",
      "      26.      When to assume neural networks can solve a problem (cerebralab.com)\n",
      "        117 points by george3d6 10 hours ago  | hide | 30&nbsp;comments              \n",
      "      \n",
      "                \n",
      "      27.      Covid-19 business relief: an overview for startups, consultants, freelancers (microconf.com)\n",
      "        39 points by rwalling 2 hours ago  | hide | 3&nbsp;comments              \n",
      "      \n",
      "                \n",
      "      28.      Yes to everything (morrick.me)\n",
      "        63 points by wyclif 6 hours ago  | hide | 31&nbsp;comments              \n",
      "      \n",
      "                \n",
      "      29.      Writing, Briefly (2005) (paulgraham.com)\n",
      "        19 points by lihaciudaniel 2 hours ago  | hide | 6&nbsp;comments              \n",
      "      \n",
      "                \n",
      "      30.      Generate semi-dynamic UIs with Haskell (github.com)\n",
      "        56 points by pka 7 hours ago  | hide | 13&nbsp;comments              \n",
      "      \n",
      "            More\n",
      "  \n",
      "\n",
      "Guidelines\n",
      "        | FAQ\n",
      "        | Support\n",
      "        | API\n",
      "        | Security\n",
      "        | Lists\n",
      "        | Bookmarklet\n",
      "        | Legal\n",
      "        | Apply to YC\n",
      "        | ContactSearch:\n",
      "          \n",
      "            \n",
      "      \n",
      "\n"
     ]
    }
   ],
   "source": [
    "import re\n",
    "\n",
    "# Remove HTML tags using RegEx\n",
    "pattern = re.compile(r'<.*?>')  # tags look like <...>\n",
    "print(pattern.sub('', r.text))  # replace them with blank"
   ]
  },
  {
   "cell_type": "code",
   "execution_count": 6,
   "metadata": {},
   "outputs": [
    {
     "name": "stdout",
     "output_type": "stream",
     "text": [
      "\n",
      "        \n",
      "          \n",
      "        Hacker News\n",
      "        \n",
      "                  Hacker News\n",
      "              new | past | comments | ask | show | jobs | submit            \n",
      "                              login\n",
      "                          \n",
      "              \n",
      "\n",
      "              \n",
      "      1.      WeWork sells Meetup (techcrunch.com)\n",
      "        105 points by uptown 1 hour ago  | hide | 56 comments              \n",
      "      \n",
      "                \n",
      "      2.      WireGuard 1.0 (kernel.org)\n",
      "        771 points by iamd3vil 7 hours ago  | hide | 125 comments              \n",
      "      \n",
      "                \n",
      "      3.      Dutch museum says van Gogh painting stolen in overnight raid (artnet.com)\n",
      "        129 points by danso 3 hours ago  | hide | 92 comments              \n",
      "      \n",
      "                \n",
      "      4.      E-VENT: Emergency ventilator design toolbox (mit.edu)\n",
      "        112 points by zdw 3 hours ago  | hide | 58 comments              \n",
      "      \n",
      "                \n",
      "      5.      Writing an OS in Rust: Async/Await (phil-opp.com)\n",
      "        252 points by phil-opp 5 hours ago  | hide | 48 comments              \n",
      "      \n",
      "                \n",
      "      6.      Please Fund More Science (samaltman.com)\n",
      "        31 points by davnicwil 1 hour ago  | hide | discuss              \n",
      "      \n",
      "                \n",
      "      7.      Demand for medical equipment is making air cargo fees ‘crazy’ (bloomberg.com)\n",
      "        113 points by hhs 4 hours ago  | hide | 86 comments              \n",
      "      \n",
      "                \n",
      "      8.      Antique 4x5 camera creates 20 micron photolithography masks [video] (youtube.com)\n",
      "        23 points by EvanAnderson 1 hour ago  | hide | discuss              \n",
      "      \n",
      "                \n",
      "      9.      AsyncAPI – OpenAPI-like specification for event-driven architectures (github.com)\n",
      "        98 points by derberg 5 hours ago  | hide | 25 comments              \n",
      "      \n",
      "                \n",
      "      10.      Bosses panic-buy spy software to keep tabs on remote workers (bloomberg.com)\n",
      "        334 points by chatmasta 3 hours ago  | hide | 246 comments              \n",
      "      \n",
      "                \n",
      "      11.      DreamCraft (YC S18) Is Hiring Full-Stack Engineers (SF Bay Area, Remote) (dreamcraft.com)\n",
      "        41 minutes ago | hide      \n",
      "      \n",
      "                \n",
      "      12.      Joseph Pilates worked on his exercise system in a WWI prisoner-of-war camp (narratively.com)\n",
      "        80 points by apollinaire 5 hours ago  | hide | discuss              \n",
      "      \n",
      "                \n",
      "      13.      Type-Safe Pointers in ATS (vmchale.com)\n",
      "        25 points by lelf 2 hours ago  | hide | discuss              \n",
      "      \n",
      "                \n",
      "      14.      How Apple's Culture of Secrecy Poses Challenges for Working from Home (macrumors.com)\n",
      "        11 points by aaronbrethorst 42 minutes ago  | hide | 3 comments              \n",
      "      \n",
      "                \n",
      "      15.      About CRDTs (crdt.tech)\n",
      "        100 points by adamnemecek 3 hours ago  | hide | 12 comments              \n",
      "      \n",
      "                \n",
      "      16.      Show HN: Gifcap, a browser based client-side GIF screen recording tool (gifcap.dev)\n",
      "        125 points by joaomoreno 6 hours ago  | hide | 38 comments              \n",
      "      \n",
      "                \n",
      "      17.      Amazon, Instacart delivery workers strike for coronavirus protection and pay (npr.org)\n",
      "        243 points by onewhonknocks 2 hours ago  | hide | 184 comments              \n",
      "      \n",
      "                \n",
      "      18.      Why Do Matter Particles Come in Threes? (quantamagazine.org)\n",
      "        51 points by theafh 4 hours ago  | hide | 23 comments              \n",
      "      \n",
      "                \n",
      "      19.      Listen to the Moment the Guns Fell Silent Ending World War I (smithsonianmag.com)\n",
      "        10 points by d0mdo0ss 50 minutes ago  | hide | 1 comment              \n",
      "      \n",
      "                \n",
      "      20.      Open Access to ACM Digital Library During Coronavirus Pandemic (acm.org)\n",
      "        143 points by scott_s 5 hours ago  | hide | 29 comments              \n",
      "      \n",
      "                \n",
      "      21.      Deep underwater, French submariners are likely unaware of pandemic (latimes.com)\n",
      "        145 points by ilamont 5 hours ago  | hide | 79 comments              \n",
      "      \n",
      "                \n",
      "      22.      Macy’s to Furlough 100k Employees (idahoreporter.com)\n",
      "        122 points by Lagogarda 4 hours ago  | hide | 66 comments              \n",
      "      \n",
      "                \n",
      "      23.      Linux 5.6 (kernel.org)\n",
      "        423 points by SomeSnail 10 hours ago  | hide | 114 comments              \n",
      "      \n",
      "                \n",
      "      24.      Asking Questions (aaronkharris.com)\n",
      "        16 points by akharris 3 hours ago  | hide | 1 comment              \n",
      "      \n",
      "                \n",
      "      25.      Show HN: Covid-19 Treatment Dashboard (quiverquant.com)\n",
      "        97 points by greatwave1 5 hours ago  | hide | 27 comments              \n",
      "      \n",
      "                \n",
      "      26.      When to assume neural networks can solve a problem (cerebralab.com)\n",
      "        117 points by george3d6 10 hours ago  | hide | 30 comments              \n",
      "      \n",
      "                \n",
      "      27.      Covid-19 business relief: an overview for startups, consultants, freelancers (microconf.com)\n",
      "        39 points by rwalling 2 hours ago  | hide | 3 comments              \n",
      "      \n",
      "                \n",
      "      28.      Yes to everything (morrick.me)\n",
      "        63 points by wyclif 6 hours ago  | hide | 31 comments              \n",
      "      \n",
      "                \n",
      "      29.      Writing, Briefly (2005) (paulgraham.com)\n",
      "        19 points by lihaciudaniel 2 hours ago  | hide | 6 comments              \n",
      "      \n",
      "                \n",
      "      30.      Generate semi-dynamic UIs with Haskell (github.com)\n",
      "        56 points by pka 7 hours ago  | hide | 13 comments              \n",
      "      \n",
      "            More\n",
      "  \n",
      "\n",
      "Guidelines\n",
      "        | FAQ\n",
      "        | Support\n",
      "        | API\n",
      "        | Security\n",
      "        | Lists\n",
      "        | Bookmarklet\n",
      "        | Legal\n",
      "        | Apply to YC\n",
      "        | ContactSearch:\n",
      "          \n",
      "            \n",
      "      \n",
      "\n"
     ]
    }
   ],
   "source": [
    "from bs4 import BeautifulSoup\n",
    "\n",
    "# Remove HTML tags using Beautiful Soup library\n",
    "soup = BeautifulSoup(r.text, \"html5lib\")\n",
    "print(soup.get_text())"
   ]
  },
  {
   "cell_type": "code",
   "execution_count": 7,
   "metadata": {
    "scrolled": true
   },
   "outputs": [
    {
     "data": {
      "text/plain": [
       "<tr class=\"athing\" id=\"22730668\">\n",
       "      <td align=\"right\" class=\"title\" valign=\"top\"><span class=\"rank\">1.</span></td>      <td class=\"votelinks\" valign=\"top\"><center><a href=\"vote?id=22730668&amp;how=up&amp;goto=news\" id=\"up_22730668\"><div class=\"votearrow\" title=\"upvote\"></div></a></center></td><td class=\"title\"><a class=\"storylink\" href=\"https://techcrunch.com/2020/03/30/wework-sells-off-social-network-meetup-to-alleycorp-and-other-investors/\">WeWork sells Meetup</a><span class=\"sitebit comhead\"> (<a href=\"from?site=techcrunch.com\"><span class=\"sitestr\">techcrunch.com</span></a>)</span></td></tr>"
      ]
     },
     "execution_count": 7,
     "metadata": {},
     "output_type": "execute_result"
    }
   ],
   "source": [
    "# Find all articles\n",
    "summaries = soup.find_all(\"tr\", class_=\"athing\")\n",
    "summaries[0]"
   ]
  },
  {
   "cell_type": "code",
   "execution_count": 8,
   "metadata": {},
   "outputs": [
    {
     "data": {
      "text/plain": [
       "'WeWork sells Meetup'"
      ]
     },
     "execution_count": 8,
     "metadata": {},
     "output_type": "execute_result"
    }
   ],
   "source": [
    "# Extract title\n",
    "summaries[0].find(\"a\", class_=\"storylink\").get_text().strip()"
   ]
  },
  {
   "cell_type": "code",
   "execution_count": 9,
   "metadata": {},
   "outputs": [
    {
     "name": "stdout",
     "output_type": "stream",
     "text": [
      "30 Article summaries found. Sample:\n",
      "WeWork sells Meetup\n"
     ]
    }
   ],
   "source": [
    "# Find all articles, extract titles\n",
    "articles = []\n",
    "summaries = soup.find_all(\"tr\", class_=\"athing\")\n",
    "for summary in summaries:\n",
    "    title = summary.find(\"a\", class_=\"storylink\").get_text().strip()\n",
    "    articles.append((title))\n",
    "\n",
    "print(len(articles), \"Article summaries found. Sample:\")\n",
    "print(articles[0])"
   ]
  },
  {
   "cell_type": "markdown",
   "metadata": {
    "collapsed": true
   },
   "source": [
    "## Normalization"
   ]
  },
  {
   "cell_type": "markdown",
   "metadata": {},
   "source": [
    "### Case Normalization"
   ]
  },
  {
   "cell_type": "code",
   "execution_count": 10,
   "metadata": {},
   "outputs": [
    {
     "name": "stdout",
     "output_type": "stream",
     "text": [
      "The first time you see The Second Renaissance it may look boring. Look at it at least twice and definitely watch part 2. It will change your view of the matrix. Are the human people the ones who started the war ? Is AI a bad thing ?\n"
     ]
    }
   ],
   "source": [
    "# Sample text\n",
    "text = \"The first time you see The Second Renaissance it may look boring. Look at it at least twice and definitely watch part 2. It will change your view of the matrix. Are the human people the ones who started the war ? Is AI a bad thing ?\"\n",
    "print(text)"
   ]
  },
  {
   "cell_type": "code",
   "execution_count": 11,
   "metadata": {},
   "outputs": [
    {
     "name": "stdout",
     "output_type": "stream",
     "text": [
      "the first time you see the second renaissance it may look boring. look at it at least twice and definitely watch part 2. it will change your view of the matrix. are the human people the ones who started the war ? is ai a bad thing ?\n"
     ]
    }
   ],
   "source": [
    "# Convert to lowercase\n",
    "text = text.lower() \n",
    "print(text)"
   ]
  },
  {
   "cell_type": "markdown",
   "metadata": {},
   "source": [
    "### Punctuation Removal"
   ]
  },
  {
   "cell_type": "code",
   "execution_count": 12,
   "metadata": {},
   "outputs": [
    {
     "name": "stdout",
     "output_type": "stream",
     "text": [
      "the first time you see the second renaissance it may look boring  look at it at least twice and definitely watch part 2  it will change your view of the matrix  are the human people the ones who started the war   is ai a bad thing  \n"
     ]
    }
   ],
   "source": [
    "import re\n",
    "\n",
    "# Remove punctuation characters\n",
    "text = re.sub(r\"[^a-zA-Z0-9]\", \" \", text) \n",
    "print(text)"
   ]
  },
  {
   "cell_type": "markdown",
   "metadata": {},
   "source": [
    "## Tokenization"
   ]
  },
  {
   "cell_type": "code",
   "execution_count": 13,
   "metadata": {},
   "outputs": [
    {
     "name": "stdout",
     "output_type": "stream",
     "text": [
      "['the', 'first', 'time', 'you', 'see', 'the', 'second', 'renaissance', 'it', 'may', 'look', 'boring', 'look', 'at', 'it', 'at', 'least', 'twice', 'and', 'definitely', 'watch', 'part', '2', 'it', 'will', 'change', 'your', 'view', 'of', 'the', 'matrix', 'are', 'the', 'human', 'people', 'the', 'ones', 'who', 'started', 'the', 'war', 'is', 'ai', 'a', 'bad', 'thing']\n"
     ]
    }
   ],
   "source": [
    "# Split text into tokens (words)\n",
    "words = text.split()\n",
    "print(words)"
   ]
  },
  {
   "cell_type": "markdown",
   "metadata": {},
   "source": [
    "### NLTK: Natural Language ToolKit"
   ]
  },
  {
   "cell_type": "code",
   "execution_count": 14,
   "metadata": {},
   "outputs": [],
   "source": [
    "import os\n",
    "import nltk\n",
    "nltk.data.path.append(os.path.join(os.getcwd(), \"nltk_data\"))"
   ]
  },
  {
   "cell_type": "code",
   "execution_count": 21,
   "metadata": {},
   "outputs": [
    {
     "name": "stdout",
     "output_type": "stream",
     "text": [
      "Dr. Smith graduated from the University of Washington. He later started an analytics firm called Lux, which catered to enterprise customers.\n"
     ]
    }
   ],
   "source": [
    "# Another sample text\n",
    "text = \"Dr. Smith graduated from the University of Washington. He later started an analytics firm called Lux, which catered to enterprise customers.\"\n",
    "print(text)"
   ]
  },
  {
   "cell_type": "code",
   "execution_count": 22,
   "metadata": {},
   "outputs": [
    {
     "name": "stdout",
     "output_type": "stream",
     "text": [
      "['Dr.', 'Smith', 'graduated', 'from', 'the', 'University', 'of', 'Washington', '.', 'He', 'later', 'started', 'an', 'analytics', 'firm', 'called', 'Lux', ',', 'which', 'catered', 'to', 'enterprise', 'customers', '.']\n"
     ]
    }
   ],
   "source": [
    "from nltk.tokenize import word_tokenize\n",
    "\n",
    "# Split text into words using NLTK\n",
    "words = word_tokenize(text)\n",
    "print(words)"
   ]
  },
  {
   "cell_type": "code",
   "execution_count": 23,
   "metadata": {},
   "outputs": [
    {
     "name": "stdout",
     "output_type": "stream",
     "text": [
      "['Dr. Smith graduated from the University of Washington.', 'He later started an analytics firm called Lux, which catered to enterprise customers.']\n"
     ]
    }
   ],
   "source": [
    "from nltk.tokenize import sent_tokenize\n",
    "\n",
    "# Split text into sentences\n",
    "sentences = sent_tokenize(text)\n",
    "print(sentences)"
   ]
  },
  {
   "cell_type": "code",
   "execution_count": 24,
   "metadata": {},
   "outputs": [
    {
     "name": "stdout",
     "output_type": "stream",
     "text": [
      "['i', 'me', 'my', 'myself', 'we', 'our', 'ours', 'ourselves', 'you', \"you're\", \"you've\", \"you'll\", \"you'd\", 'your', 'yours', 'yourself', 'yourselves', 'he', 'him', 'his', 'himself', 'she', \"she's\", 'her', 'hers', 'herself', 'it', \"it's\", 'its', 'itself', 'they', 'them', 'their', 'theirs', 'themselves', 'what', 'which', 'who', 'whom', 'this', 'that', \"that'll\", 'these', 'those', 'am', 'is', 'are', 'was', 'were', 'be', 'been', 'being', 'have', 'has', 'had', 'having', 'do', 'does', 'did', 'doing', 'a', 'an', 'the', 'and', 'but', 'if', 'or', 'because', 'as', 'until', 'while', 'of', 'at', 'by', 'for', 'with', 'about', 'against', 'between', 'into', 'through', 'during', 'before', 'after', 'above', 'below', 'to', 'from', 'up', 'down', 'in', 'out', 'on', 'off', 'over', 'under', 'again', 'further', 'then', 'once', 'here', 'there', 'when', 'where', 'why', 'how', 'all', 'any', 'both', 'each', 'few', 'more', 'most', 'other', 'some', 'such', 'no', 'nor', 'not', 'only', 'own', 'same', 'so', 'than', 'too', 'very', 's', 't', 'can', 'will', 'just', 'don', \"don't\", 'should', \"should've\", 'now', 'd', 'll', 'm', 'o', 're', 've', 'y', 'ain', 'aren', \"aren't\", 'couldn', \"couldn't\", 'didn', \"didn't\", 'doesn', \"doesn't\", 'hadn', \"hadn't\", 'hasn', \"hasn't\", 'haven', \"haven't\", 'isn', \"isn't\", 'ma', 'mightn', \"mightn't\", 'mustn', \"mustn't\", 'needn', \"needn't\", 'shan', \"shan't\", 'shouldn', \"shouldn't\", 'wasn', \"wasn't\", 'weren', \"weren't\", 'won', \"won't\", 'wouldn', \"wouldn't\"]\n"
     ]
    }
   ],
   "source": [
    "# List stop words\n",
    "from nltk.corpus import stopwords\n",
    "print(stopwords.words(\"english\"))"
   ]
  },
  {
   "cell_type": "code",
   "execution_count": 25,
   "metadata": {},
   "outputs": [
    {
     "name": "stdout",
     "output_type": "stream",
     "text": [
      "['the', 'first', 'time', 'you', 'see', 'the', 'second', 'renaissance', 'it', 'may', 'look', 'boring', 'look', 'at', 'it', 'at', 'least', 'twice', 'and', 'definitely', 'watch', 'part', '2', 'it', 'will', 'change', 'your', 'view', 'of', 'the', 'matrix', 'are', 'the', 'human', 'people', 'the', 'ones', 'who', 'started', 'the', 'war', 'is', 'ai', 'a', 'bad', 'thing']\n"
     ]
    }
   ],
   "source": [
    "# Reset text\n",
    "text = \"The first time you see The Second Renaissance it may look boring. Look at it at least twice and definitely watch part 2. It will change your view of the matrix. Are the human people the ones who started the war ? Is AI a bad thing ?\"\n",
    "\n",
    "# Normalize it\n",
    "text = re.sub(r\"[^a-zA-Z0-9]\", \" \", text.lower())\n",
    "\n",
    "# Tokenize it\n",
    "words = text.split()\n",
    "print(words)"
   ]
  },
  {
   "cell_type": "code",
   "execution_count": 26,
   "metadata": {},
   "outputs": [
    {
     "name": "stdout",
     "output_type": "stream",
     "text": [
      "['first', 'time', 'see', 'second', 'renaissance', 'may', 'look', 'boring', 'look', 'least', 'twice', 'definitely', 'watch', 'part', '2', 'change', 'view', 'matrix', 'human', 'people', 'ones', 'started', 'war', 'ai', 'bad', 'thing']\n"
     ]
    }
   ],
   "source": [
    "# Remove stop words\n",
    "words = [w for w in words if w not in stopwords.words(\"english\")]\n",
    "print(words)"
   ]
  },
  {
   "cell_type": "markdown",
   "metadata": {},
   "source": [
    "### Sentence Parsing"
   ]
  },
  {
   "cell_type": "code",
   "execution_count": 27,
   "metadata": {},
   "outputs": [
    {
     "name": "stdout",
     "output_type": "stream",
     "text": [
      "(S\n",
      "  (NP I)\n",
      "  (VP\n",
      "    (VP (V shot) (NP (Det an) (N elephant)))\n",
      "    (PP (P in) (NP (Det my) (N pajamas)))))\n",
      "(S\n",
      "  (NP I)\n",
      "  (VP\n",
      "    (V shot)\n",
      "    (NP (Det an) (N elephant) (PP (P in) (NP (Det my) (N pajamas))))))\n"
     ]
    }
   ],
   "source": [
    "import nltk\n",
    "\n",
    "# Define a custom grammar\n",
    "my_grammar = nltk.CFG.fromstring(\"\"\"\n",
    "S -> NP VP\n",
    "PP -> P NP\n",
    "NP -> Det N | Det N PP | 'I'\n",
    "VP -> V NP | VP PP\n",
    "Det -> 'an' | 'my'\n",
    "N -> 'elephant' | 'pajamas'\n",
    "V -> 'shot'\n",
    "P -> 'in'\n",
    "\"\"\")\n",
    "parser = nltk.ChartParser(my_grammar)\n",
    "\n",
    "# Parse a sentence\n",
    "sentence = word_tokenize(\"I shot an elephant in my pajamas\")\n",
    "for tree in parser.parse(sentence):\n",
    "    print(tree)"
   ]
  },
  {
   "cell_type": "markdown",
   "metadata": {},
   "source": [
    "## Stemming & Lemmatization\n",
    "\n",
    "### Stemming"
   ]
  },
  {
   "cell_type": "code",
   "execution_count": 28,
   "metadata": {},
   "outputs": [
    {
     "name": "stdout",
     "output_type": "stream",
     "text": [
      "['first', 'time', 'see', 'second', 'renaiss', 'may', 'look', 'bore', 'look', 'least', 'twice', 'definit', 'watch', 'part', '2', 'chang', 'view', 'matrix', 'human', 'peopl', 'one', 'start', 'war', 'ai', 'bad', 'thing']\n"
     ]
    }
   ],
   "source": [
    "from nltk.stem.porter import PorterStemmer\n",
    "\n",
    "# Reduce words to their stems\n",
    "stemmed = [PorterStemmer().stem(w) for w in words]\n",
    "print(stemmed)"
   ]
  },
  {
   "cell_type": "markdown",
   "metadata": {},
   "source": [
    "### Lemmatization"
   ]
  },
  {
   "cell_type": "code",
   "execution_count": 29,
   "metadata": {},
   "outputs": [
    {
     "name": "stdout",
     "output_type": "stream",
     "text": [
      "['first', 'time', 'see', 'second', 'renaissance', 'may', 'look', 'boring', 'look', 'least', 'twice', 'definitely', 'watch', 'part', '2', 'change', 'view', 'matrix', 'human', 'people', 'one', 'started', 'war', 'ai', 'bad', 'thing']\n"
     ]
    }
   ],
   "source": [
    "from nltk.stem.wordnet import WordNetLemmatizer\n",
    "\n",
    "# Reduce words to their root form\n",
    "lemmed = [WordNetLemmatizer().lemmatize(w) for w in words]\n",
    "print(lemmed)"
   ]
  },
  {
   "cell_type": "code",
   "execution_count": 30,
   "metadata": {},
   "outputs": [
    {
     "name": "stdout",
     "output_type": "stream",
     "text": [
      "['first', 'time', 'see', 'second', 'renaissance', 'may', 'look', 'bore', 'look', 'least', 'twice', 'definitely', 'watch', 'part', '2', 'change', 'view', 'matrix', 'human', 'people', 'one', 'start', 'war', 'ai', 'bad', 'thing']\n"
     ]
    }
   ],
   "source": [
    "# Lemmatize verbs by specifying pos\n",
    "lemmed = [WordNetLemmatizer().lemmatize(w, pos='v') for w in lemmed]\n",
    "print(lemmed)"
   ]
  },
  {
   "cell_type": "code",
   "execution_count": null,
   "metadata": {},
   "outputs": [],
   "source": []
  }
 ],
 "metadata": {
  "kernelspec": {
   "display_name": "Python 3",
   "language": "python",
   "name": "python3"
  },
  "language_info": {
   "codemirror_mode": {
    "name": "ipython",
    "version": 3
   },
   "file_extension": ".py",
   "mimetype": "text/x-python",
   "name": "python",
   "nbconvert_exporter": "python",
   "pygments_lexer": "ipython3",
   "version": "3.6.3"
  }
 },
 "nbformat": 4,
 "nbformat_minor": 2
}
