{
 "cells": [
  {
   "cell_type": "markdown",
   "metadata": {
    "collapsed": true
   },
   "source": [
    "# Artificial Intelligence Nanodegree\n",
    "## Machine Translation Project\n",
    "In this notebook, sections that end with **'(IMPLEMENTATION)'** in the header indicate that the following blocks of code will require additional functionality which you must provide. Please be sure to read the instructions carefully!\n",
    "\n",
    "## Introduction\n",
    "In this notebook, you will build a deep neural network that functions as part of an end-to-end machine translation pipeline. Your completed pipeline will accept English text as input and return the French translation.\n",
    "\n",
    "- **Preprocess** - You'll convert text to sequence of integers.\n",
    "- **Models** Create models which accepts a sequence of integers as input and returns a probability distribution over possible translations. After learning about the basic types of neural networks that are often used for machine translation, you will engage in your own investigations, to design your own model!\n",
    "- **Prediction** Run the model on English text."
   ]
  },
  {
   "cell_type": "code",
   "execution_count": 1,
   "metadata": {},
   "outputs": [],
   "source": [
    "%load_ext autoreload\n",
    "%aimport helper, tests\n",
    "%autoreload 1"
   ]
  },
  {
   "cell_type": "code",
   "execution_count": 2,
   "metadata": {},
   "outputs": [
    {
     "name": "stderr",
     "output_type": "stream",
     "text": [
      "Using TensorFlow backend.\n"
     ]
    }
   ],
   "source": [
    "import collections\n",
    "\n",
    "import helper\n",
    "import numpy as np\n",
    "import project_tests as tests\n",
    "\n",
    "from keras.preprocessing.text import Tokenizer\n",
    "from keras.preprocessing.sequence import pad_sequences\n",
    "from keras.models import Model\n",
    "from keras.layers import GRU, Input, Dense, TimeDistributed, Activation, RepeatVector, Bidirectional\n",
    "from keras.layers.embeddings import Embedding\n",
    "from keras.optimizers import Adam\n",
    "from keras.losses import sparse_categorical_crossentropy"
   ]
  },
  {
   "cell_type": "markdown",
   "metadata": {},
   "source": [
    "### Verify access to the GPU\n",
    "The following test applies only if you expect to be using a GPU, e.g., while running in a Udacity Workspace or using an AWS instance with GPU support. Run the next cell, and verify that the device_type is \"GPU\".\n",
    "- If the device is not GPU & you are running from a Udacity Workspace, then save your workspace with the icon at the top, then click \"enable\" at the bottom of the workspace.\n",
    "- If the device is not GPU & you are running from an AWS instance, then refer to the cloud computing instructions in the classroom to verify your setup steps."
   ]
  },
  {
   "cell_type": "code",
   "execution_count": 3,
   "metadata": {},
   "outputs": [
    {
     "name": "stdout",
     "output_type": "stream",
     "text": [
      "[name: \"/cpu:0\"\n",
      "device_type: \"CPU\"\n",
      "memory_limit: 268435456\n",
      "locality {\n",
      "}\n",
      "incarnation: 666552804627782028\n",
      ", name: \"/gpu:0\"\n",
      "device_type: \"GPU\"\n",
      "memory_limit: 357433344\n",
      "locality {\n",
      "  bus_id: 1\n",
      "}\n",
      "incarnation: 9675331953041472109\n",
      "physical_device_desc: \"device: 0, name: Tesla K80, pci bus id: 0000:00:04.0\"\n",
      "]\n"
     ]
    }
   ],
   "source": [
    "from tensorflow.python.client import device_lib\n",
    "print(device_lib.list_local_devices())"
   ]
  },
  {
   "cell_type": "markdown",
   "metadata": {},
   "source": [
    "## Dataset\n",
    "We begin by investigating the dataset that will be used to train and evaluate your pipeline.  The most common datasets used for machine translation are from [WMT](http://www.statmt.org/).  However, that will take a long time to train a neural network on.  We'll be using a dataset we created for this project that contains a small vocabulary.  You'll be able to train your model in a reasonable time with this dataset.\n",
    "### Load Data\n",
    "The data is located in `data/small_vocab_en` and `data/small_vocab_fr`. The `small_vocab_en` file contains English sentences with their French translations in the `small_vocab_fr` file. Load the English and French data from these files from running the cell below."
   ]
  },
  {
   "cell_type": "code",
   "execution_count": 4,
   "metadata": {},
   "outputs": [
    {
     "name": "stdout",
     "output_type": "stream",
     "text": [
      "Dataset Loaded\n"
     ]
    }
   ],
   "source": [
    "# Load English data\n",
    "english_sentences = helper.load_data('data/small_vocab_en')\n",
    "# Load French data\n",
    "french_sentences = helper.load_data('data/small_vocab_fr')\n",
    "\n",
    "print('Dataset Loaded')"
   ]
  },
  {
   "cell_type": "markdown",
   "metadata": {},
   "source": [
    "### Files\n",
    "Each line in `small_vocab_en` contains an English sentence with the respective translation in each line of `small_vocab_fr`.  View the first two lines from each file."
   ]
  },
  {
   "cell_type": "code",
   "execution_count": 5,
   "metadata": {},
   "outputs": [
    {
     "name": "stdout",
     "output_type": "stream",
     "text": [
      "small_vocab_en Line 1:  new jersey is sometimes quiet during autumn , and it is snowy in april .\n",
      "small_vocab_fr Line 1:  new jersey est parfois calme pendant l' automne , et il est neigeux en avril .\n",
      "small_vocab_en Line 2:  the united states is usually chilly during july , and it is usually freezing in november .\n",
      "small_vocab_fr Line 2:  les états-unis est généralement froid en juillet , et il gèle habituellement en novembre .\n"
     ]
    }
   ],
   "source": [
    "for sample_i in range(2):\n",
    "    print('small_vocab_en Line {}:  {}'.format(sample_i + 1, english_sentences[sample_i]))\n",
    "    print('small_vocab_fr Line {}:  {}'.format(sample_i + 1, french_sentences[sample_i]))"
   ]
  },
  {
   "cell_type": "markdown",
   "metadata": {},
   "source": [
    "From looking at the sentences, you can see they have been preprocessed already.  The puncuations have been delimited using spaces. All the text have been converted to lowercase.  This should save you some time, but the text requires more preprocessing.\n",
    "### Vocabulary\n",
    "The complexity of the problem is determined by the complexity of the vocabulary.  A more complex vocabulary is a more complex problem.  Let's look at the complexity of the dataset we'll be working with."
   ]
  },
  {
   "cell_type": "code",
   "execution_count": 6,
   "metadata": {},
   "outputs": [
    {
     "name": "stdout",
     "output_type": "stream",
     "text": [
      "1823250 English words.\n",
      "227 unique English words.\n",
      "10 Most common words in the English dataset:\n",
      "\"is\" \",\" \".\" \"in\" \"it\" \"during\" \"the\" \"but\" \"and\" \"sometimes\"\n",
      "\n",
      "1961295 French words.\n",
      "355 unique French words.\n",
      "10 Most common words in the French dataset:\n",
      "\"est\" \".\" \",\" \"en\" \"il\" \"les\" \"mais\" \"et\" \"la\" \"parfois\"\n"
     ]
    }
   ],
   "source": [
    "english_words_counter = collections.Counter([word for sentence in english_sentences for word in sentence.split()])\n",
    "french_words_counter = collections.Counter([word for sentence in french_sentences for word in sentence.split()])\n",
    "\n",
    "print('{} English words.'.format(len([word for sentence in english_sentences for word in sentence.split()])))\n",
    "print('{} unique English words.'.format(len(english_words_counter)))\n",
    "print('10 Most common words in the English dataset:')\n",
    "print('\"' + '\" \"'.join(list(zip(*english_words_counter.most_common(10)))[0]) + '\"')\n",
    "print()\n",
    "print('{} French words.'.format(len([word for sentence in french_sentences for word in sentence.split()])))\n",
    "print('{} unique French words.'.format(len(french_words_counter)))\n",
    "print('10 Most common words in the French dataset:')\n",
    "print('\"' + '\" \"'.join(list(zip(*french_words_counter.most_common(10)))[0]) + '\"')"
   ]
  },
  {
   "cell_type": "markdown",
   "metadata": {},
   "source": [
    "For comparison, _Alice's Adventures in Wonderland_ contains 2,766 unique words of a total of 15,500 words.\n",
    "## Preprocess\n",
    "For this project, you won't use text data as input to your model. Instead, you'll convert the text into sequences of integers using the following preprocess methods:\n",
    "1. Tokenize the words into ids\n",
    "2. Add padding to make all the sequences the same length.\n",
    "\n",
    "Time to start preprocessing the data...\n",
    "### Tokenize (IMPLEMENTATION)\n",
    "For a neural network to predict on text data, it first has to be turned into data it can understand. Text data like \"dog\" is a sequence of ASCII character encodings.  Since a neural network is a series of multiplication and addition operations, the input data needs to be number(s).\n",
    "\n",
    "We can turn each character into a number or each word into a number.  These are called character and word ids, respectively.  Character ids are used for character level models that generate text predictions for each character.  A word level model uses word ids that generate text predictions for each word.  Word level models tend to learn better, since they are lower in complexity, so we'll use those.\n",
    "\n",
    "Turn each sentence into a sequence of words ids using Keras's [`Tokenizer`](https://keras.io/preprocessing/text/#tokenizer) function. Use this function to tokenize `english_sentences` and `french_sentences` in the cell below.\n",
    "\n",
    "Running the cell will run `tokenize` on sample data and show output for debugging."
   ]
  },
  {
   "cell_type": "code",
   "execution_count": 7,
   "metadata": {},
   "outputs": [
    {
     "name": "stdout",
     "output_type": "stream",
     "text": [
      "{'the': 1, 'quick': 2, 'a': 3, 'brown': 4, 'fox': 5, 'jumps': 6, 'over': 7, 'lazy': 8, 'dog': 9, 'by': 10, 'jove': 11, 'my': 12, 'study': 13, 'of': 14, 'lexicography': 15, 'won': 16, 'prize': 17, 'this': 18, 'is': 19, 'short': 20, 'sentence': 21}\n",
      "\n",
      "Sequence 1 in x\n",
      "  Input:  The quick brown fox jumps over the lazy dog .\n",
      "  Output: [1, 2, 4, 5, 6, 7, 1, 8, 9]\n",
      "Sequence 2 in x\n",
      "  Input:  By Jove , my quick study of lexicography won a prize .\n",
      "  Output: [10, 11, 12, 2, 13, 14, 15, 16, 3, 17]\n",
      "Sequence 3 in x\n",
      "  Input:  This is a short sentence .\n",
      "  Output: [18, 19, 3, 20, 21]\n"
     ]
    }
   ],
   "source": [
    "def tokenize(x):\n",
    "    \"\"\"\n",
    "    Tokenize x\n",
    "    :param x: List of sentences/strings to be tokenized\n",
    "    :return: Tuple of (tokenized x data, tokenizer used to tokenize x)\n",
    "    \"\"\"\n",
    "    # TODO: Implement\n",
    "    t = Tokenizer()\n",
    "    # fit the tokenizer on the documents\n",
    "    t.fit_on_texts(x)\n",
    "    return t.texts_to_sequences(x), t\n",
    "tests.test_tokenize(tokenize)\n",
    "\n",
    "# Tokenize Example output\n",
    "text_sentences = [\n",
    "    'The quick brown fox jumps over the lazy dog .',\n",
    "    'By Jove , my quick study of lexicography won a prize .',\n",
    "    'This is a short sentence .']\n",
    "text_tokenized, text_tokenizer = tokenize(text_sentences)\n",
    "print(text_tokenizer.word_index)\n",
    "print()\n",
    "for sample_i, (sent, token_sent) in enumerate(zip(text_sentences, text_tokenized)):\n",
    "    print('Sequence {} in x'.format(sample_i + 1))\n",
    "    print('  Input:  {}'.format(sent))\n",
    "    print('  Output: {}'.format(token_sent))"
   ]
  },
  {
   "cell_type": "markdown",
   "metadata": {},
   "source": [
    "### Padding (IMPLEMENTATION)\n",
    "When batching the sequence of word ids together, each sequence needs to be the same length.  Since sentences are dynamic in length, we can add padding to the end of the sequences to make them the same length.\n",
    "\n",
    "Make sure all the English sequences have the same length and all the French sequences have the same length by adding padding to the **end** of each sequence using Keras's [`pad_sequences`](https://keras.io/preprocessing/sequence/#pad_sequences) function."
   ]
  },
  {
   "cell_type": "code",
   "execution_count": 8,
   "metadata": {},
   "outputs": [
    {
     "name": "stdout",
     "output_type": "stream",
     "text": [
      "Sequence 1 in x\n",
      "  Input:  [1 2 4 5 6 7 1 8 9]\n",
      "  Output: [1 2 4 5 6 7 1 8 9 0]\n",
      "Sequence 2 in x\n",
      "  Input:  [10 11 12  2 13 14 15 16  3 17]\n",
      "  Output: [10 11 12  2 13 14 15 16  3 17]\n",
      "Sequence 3 in x\n",
      "  Input:  [18 19  3 20 21]\n",
      "  Output: [18 19  3 20 21  0  0  0  0  0]\n"
     ]
    }
   ],
   "source": [
    "def pad(x, length=None):\n",
    "    \"\"\"\n",
    "    Pad x\n",
    "    :param x: List of sequences.\n",
    "    :param length: Length to pad the sequence to.  If None, use length of longest sequence in x.\n",
    "    :return: Padded numpy array of sequences\n",
    "    \"\"\"\n",
    "    # TODO: Implement\n",
    "    if length is None:\n",
    "        length = max([len(sentence) for sentence in x])\n",
    "    return pad_sequences(x, maxlen=length, padding='post')\n",
    "tests.test_pad(pad)\n",
    "\n",
    "# Pad Tokenized output\n",
    "test_pad = pad(text_tokenized)\n",
    "for sample_i, (token_sent, pad_sent) in enumerate(zip(text_tokenized, test_pad)):\n",
    "    print('Sequence {} in x'.format(sample_i + 1))\n",
    "    print('  Input:  {}'.format(np.array(token_sent)))\n",
    "    print('  Output: {}'.format(pad_sent))"
   ]
  },
  {
   "cell_type": "markdown",
   "metadata": {},
   "source": [
    "### Preprocess Pipeline\n",
    "Your focus for this project is to build neural network architecture, so we won't ask you to create a preprocess pipeline.  Instead, we've provided you with the implementation of the `preprocess` function."
   ]
  },
  {
   "cell_type": "code",
   "execution_count": 9,
   "metadata": {},
   "outputs": [
    {
     "name": "stdout",
     "output_type": "stream",
     "text": [
      "Data Preprocessed\n",
      "Max English sentence length: 15\n",
      "Max French sentence length: 21\n",
      "English vocabulary size: 199\n",
      "French vocabulary size: 344\n"
     ]
    }
   ],
   "source": [
    "def preprocess(x, y):\n",
    "    \"\"\"\n",
    "    Preprocess x and y\n",
    "    :param x: Feature List of sentences\n",
    "    :param y: Label List of sentences\n",
    "    :return: Tuple of (Preprocessed x, Preprocessed y, x tokenizer, y tokenizer)\n",
    "    \"\"\"\n",
    "    preprocess_x, x_tk = tokenize(x)\n",
    "    preprocess_y, y_tk = tokenize(y)\n",
    "\n",
    "    preprocess_x = pad(preprocess_x)\n",
    "    preprocess_y = pad(preprocess_y)\n",
    "\n",
    "    # Keras's sparse_categorical_crossentropy function requires the labels to be in 3 dimensions\n",
    "    preprocess_y = preprocess_y.reshape(*preprocess_y.shape, 1)\n",
    "\n",
    "    return preprocess_x, preprocess_y, x_tk, y_tk\n",
    "\n",
    "preproc_english_sentences, preproc_french_sentences, english_tokenizer, french_tokenizer =\\\n",
    "    preprocess(english_sentences, french_sentences)\n",
    "    \n",
    "max_english_sequence_length = preproc_english_sentences.shape[1]\n",
    "max_french_sequence_length = preproc_french_sentences.shape[1]\n",
    "english_vocab_size = len(english_tokenizer.word_index)\n",
    "french_vocab_size = len(french_tokenizer.word_index)\n",
    "\n",
    "print('Data Preprocessed')\n",
    "print(\"Max English sentence length:\", max_english_sequence_length)\n",
    "print(\"Max French sentence length:\", max_french_sequence_length)\n",
    "print(\"English vocabulary size:\", english_vocab_size)\n",
    "print(\"French vocabulary size:\", french_vocab_size)"
   ]
  },
  {
   "cell_type": "markdown",
   "metadata": {},
   "source": [
    "## Models\n",
    "In this section, you will experiment with various neural network architectures.\n",
    "You will begin by training four relatively simple architectures.\n",
    "- Model 1 is a simple RNN\n",
    "- Model 2 is a RNN with Embedding\n",
    "- Model 3 is a Bidirectional RNN\n",
    "- Model 4 is an optional Encoder-Decoder RNN\n",
    "\n",
    "After experimenting with the four simple architectures, you will construct a deeper architecture that is designed to outperform all four models.\n",
    "### Ids Back to Text\n",
    "The neural network will be translating the input to words ids, which isn't the final form we want.  We want the French translation.  The function `logits_to_text` will bridge the gab between the logits from the neural network to the French translation.  You'll be using this function to better understand the output of the neural network."
   ]
  },
  {
   "cell_type": "code",
   "execution_count": 10,
   "metadata": {},
   "outputs": [
    {
     "name": "stdout",
     "output_type": "stream",
     "text": [
      "`logits_to_text` function loaded.\n"
     ]
    }
   ],
   "source": [
    "def logits_to_text(logits, tokenizer):\n",
    "    \"\"\"\n",
    "    Turn logits from a neural network into text using the tokenizer\n",
    "    :param logits: Logits from a neural network\n",
    "    :param tokenizer: Keras Tokenizer fit on the labels\n",
    "    :return: String that represents the text of the logits\n",
    "    \"\"\"\n",
    "    index_to_words = {id: word for word, id in tokenizer.word_index.items()}\n",
    "    index_to_words[0] = '<PAD>'\n",
    "\n",
    "    return ' '.join([index_to_words[prediction] for prediction in np.argmax(logits, 1)])\n",
    "\n",
    "print('`logits_to_text` function loaded.')"
   ]
  },
  {
   "cell_type": "markdown",
   "metadata": {},
   "source": [
    "### Model 1: RNN (IMPLEMENTATION)\n",
    "![RNN](images/rnn.png)\n",
    "A basic RNN model is a good baseline for sequence data.  In this model, you'll build a RNN that translates English to French."
   ]
  },
  {
   "cell_type": "code",
   "execution_count": 27,
   "metadata": {},
   "outputs": [
    {
     "name": "stdout",
     "output_type": "stream",
     "text": [
      "_________________________________________________________________\n",
      "Layer (type)                 Output Shape              Param #   \n",
      "=================================================================\n",
      "input_30 (InputLayer)        (None, 21, 1)             0         \n",
      "_________________________________________________________________\n",
      "gru_30 (GRU)                 (None, 21, 400)           482400    \n",
      "_________________________________________________________________\n",
      "time_distributed_25 (TimeDis (None, 21, 344)           137944    \n",
      "_________________________________________________________________\n",
      "activation_25 (Activation)   (None, 21, 344)           0         \n",
      "=================================================================\n",
      "Total params: 620,344\n",
      "Trainable params: 620,344\n",
      "Non-trainable params: 0\n",
      "_________________________________________________________________\n",
      "None\n",
      "Train on 110288 samples, validate on 27573 samples\n",
      "Epoch 1/10\n",
      "110288/110288 [==============================] - 23s 206us/step - loss: 2.3401 - acc: 0.5062 - val_loss: nan - val_acc: 0.5866\n",
      "Epoch 2/10\n",
      "110288/110288 [==============================] - 22s 197us/step - loss: 1.4996 - acc: 0.6037 - val_loss: nan - val_acc: 0.6156\n",
      "Epoch 3/10\n",
      "110288/110288 [==============================] - 22s 198us/step - loss: 1.3207 - acc: 0.6266 - val_loss: nan - val_acc: 0.6337\n",
      "Epoch 4/10\n",
      "110288/110288 [==============================] - 22s 198us/step - loss: 1.2022 - acc: 0.6472 - val_loss: nan - val_acc: 0.6588\n",
      "Epoch 5/10\n",
      "110288/110288 [==============================] - 22s 198us/step - loss: 1.1188 - acc: 0.6634 - val_loss: nan - val_acc: 0.6693\n",
      "Epoch 6/10\n",
      "110288/110288 [==============================] - 22s 198us/step - loss: 1.0596 - acc: 0.6719 - val_loss: nan - val_acc: 0.6814\n",
      "Epoch 7/10\n",
      "110288/110288 [==============================] - 22s 198us/step - loss: 1.0129 - acc: 0.6791 - val_loss: nan - val_acc: 0.6866\n",
      "Epoch 8/10\n",
      "110288/110288 [==============================] - 22s 198us/step - loss: 0.9746 - acc: 0.6855 - val_loss: nan - val_acc: 0.6878\n",
      "Epoch 9/10\n",
      "110288/110288 [==============================] - 22s 198us/step - loss: 0.9398 - acc: 0.6924 - val_loss: nan - val_acc: 0.6928\n",
      "Epoch 10/10\n",
      "110288/110288 [==============================] - 22s 198us/step - loss: 0.9050 - acc: 0.7010 - val_loss: nan - val_acc: 0.7111\n",
      "new jersey est parfois calme en mois de il est il est en <PAD> <PAD> <PAD> <PAD> <PAD> <PAD> <PAD> <PAD>\n"
     ]
    }
   ],
   "source": [
    "def simple_model(input_shape, output_sequence_length, english_vocab_size, french_vocab_size):\n",
    "    \"\"\"\n",
    "    Build and train a basic RNN on x and y\n",
    "    :param input_shape: Tuple of input shape\n",
    "    :param output_sequence_length: Length of output sequence\n",
    "    :param english_vocab_size: Number of unique English words in the dataset\n",
    "    :param french_vocab_size: Number of unique French words in the dataset\n",
    "    :return: Keras model built, but not trained\n",
    "    \"\"\"\n",
    "    # TODO: Build the layers\n",
    "    learning_rate = 1e-3\n",
    "\n",
    "    input_seq = Input(input_shape[1:])\n",
    "    rnn = GRU(400, return_sequences=True)(input_seq)\n",
    "    logits = TimeDistributed(Dense(french_vocab_size))(rnn)\n",
    "\n",
    "    model = Model(input_seq, Activation('softmax')(logits))\n",
    "    model.compile(loss=sparse_categorical_crossentropy,\n",
    "                  optimizer=Adam(learning_rate),\n",
    "                  metrics=['accuracy'])\n",
    "    return model\n",
    "tests.test_simple_model(simple_model)\n",
    "\n",
    "# Reshaping the input to work with a basic RNN\n",
    "tmp_x = pad(preproc_english_sentences, max_french_sequence_length)\n",
    "tmp_x = tmp_x.reshape((-1, preproc_french_sentences.shape[-2], 1))\n",
    "\n",
    "# Train the neural network\n",
    "simple_rnn_model = simple_model(\n",
    "    tmp_x.shape,\n",
    "    max_french_sequence_length,\n",
    "    english_vocab_size,\n",
    "    french_vocab_size)\n",
    "print(simple_rnn_model.summary())\n",
    "simple_rnn_model.fit(tmp_x, preproc_french_sentences, batch_size=1024, epochs=10, validation_split=0.2)\n",
    "\n",
    "# Print prediction(s)\n",
    "print(logits_to_text(simple_rnn_model.predict(tmp_x[:1])[0], french_tokenizer))"
   ]
  },
  {
   "cell_type": "markdown",
   "metadata": {},
   "source": [
    "### Model 2: Embedding (IMPLEMENTATION)\n",
    "![RNN](images/embedding.png)\n",
    "You've turned the words into ids, but there's a better representation of a word.  This is called word embeddings.  An embedding is a vector representation of the word that is close to similar words in n-dimensional space, where the n represents the size of the embedding vectors.\n",
    "\n",
    "In this model, you'll create a RNN model using embedding."
   ]
  },
  {
   "cell_type": "code",
   "execution_count": 22,
   "metadata": {},
   "outputs": [
    {
     "name": "stdout",
     "output_type": "stream",
     "text": [
      "_________________________________________________________________\n",
      "Layer (type)                 Output Shape              Param #   \n",
      "=================================================================\n",
      "input_23 (InputLayer)        (None, 21)                0         \n",
      "_________________________________________________________________\n",
      "embedding_11 (Embedding)     (None, 21, 256)           50944     \n",
      "_________________________________________________________________\n",
      "gru_23 (GRU)                 (None, 21, 400)           788400    \n",
      "_________________________________________________________________\n",
      "time_distributed_21 (TimeDis (None, 21, 344)           137944    \n",
      "_________________________________________________________________\n",
      "activation_21 (Activation)   (None, 21, 344)           0         \n",
      "=================================================================\n",
      "Total params: 977,288\n",
      "Trainable params: 977,288\n",
      "Non-trainable params: 0\n",
      "_________________________________________________________________\n",
      "None\n",
      "Train on 110288 samples, validate on 27573 samples\n",
      "Epoch 1/10\n",
      "110288/110288 [==============================] - 28s 256us/step - loss: 2.8644 - acc: 0.4718 - val_loss: nan - val_acc: 0.5874\n",
      "Epoch 2/10\n",
      "110288/110288 [==============================] - 27s 249us/step - loss: 1.3369 - acc: 0.6837 - val_loss: nan - val_acc: 0.7599\n",
      "Epoch 3/10\n",
      "110288/110288 [==============================] - 28s 250us/step - loss: 0.7691 - acc: 0.7982 - val_loss: nan - val_acc: 0.8301\n",
      "Epoch 4/10\n",
      "110288/110288 [==============================] - 28s 250us/step - loss: 0.5194 - acc: 0.8486 - val_loss: nan - val_acc: 0.8695\n",
      "Epoch 5/10\n",
      "110288/110288 [==============================] - 28s 250us/step - loss: 0.3972 - acc: 0.8798 - val_loss: nan - val_acc: 0.8857\n",
      "Epoch 6/10\n",
      "110288/110288 [==============================] - 28s 251us/step - loss: 0.3344 - acc: 0.8955 - val_loss: nan - val_acc: 0.9014\n",
      "Epoch 7/10\n",
      "110288/110288 [==============================] - 28s 250us/step - loss: 0.2934 - acc: 0.9070 - val_loss: nan - val_acc: 0.9110\n",
      "Epoch 8/10\n",
      "110288/110288 [==============================] - 28s 250us/step - loss: 0.2664 - acc: 0.9139 - val_loss: nan - val_acc: 0.9167\n",
      "Epoch 9/10\n",
      "110288/110288 [==============================] - 28s 251us/step - loss: 0.2460 - acc: 0.9196 - val_loss: nan - val_acc: 0.9206\n",
      "Epoch 10/10\n",
      "110288/110288 [==============================] - 28s 250us/step - loss: 0.2308 - acc: 0.9237 - val_loss: nan - val_acc: 0.9245\n",
      "new jersey est parfois calme au l' automne et il est neigeux en avril <PAD> <PAD> <PAD> <PAD> <PAD> <PAD> <PAD>\n"
     ]
    }
   ],
   "source": [
    "def embed_model(input_shape, output_sequence_length, english_vocab_size, french_vocab_size):\n",
    "    \"\"\"\n",
    "    Build and train a RNN model using word embedding on x and y\n",
    "    :param input_shape: Tuple of input shape\n",
    "    :param output_sequence_length: Length of output sequence\n",
    "    :param english_vocab_size: Number of unique English words in the dataset\n",
    "    :param french_vocab_size: Number of unique French words in the dataset\n",
    "    :return: Keras model built, but not trained\n",
    "    \"\"\"\n",
    "    # TODO: Implement\n",
    "    learning_rate = 1e-3\n",
    "\n",
    "    input_seq = Input(input_shape[1:])\n",
    "    embedding=Embedding(input_dim=english_vocab_size, output_dim=256)(input_seq)\n",
    "    rnn = GRU(400, return_sequences=True)(embedding)\n",
    "    logits = TimeDistributed(Dense(french_vocab_size))(rnn)\n",
    "\n",
    "    model = Model(input_seq, Activation('softmax')(logits))\n",
    "    model.compile(loss=sparse_categorical_crossentropy,\n",
    "                  optimizer=Adam(learning_rate),\n",
    "                  metrics=['accuracy'])\n",
    "    \n",
    "    return model\n",
    "tests.test_embed_model(embed_model)\n",
    "\n",
    "\n",
    "# TODO: Reshape the input\n",
    "tmp_x = pad(preproc_english_sentences, max_french_sequence_length)\n",
    "\n",
    "# TODO: Train the neural network\n",
    "embedding_rnn_model = embed_model(\n",
    "    tmp_x.shape,\n",
    "    max_french_sequence_length,\n",
    "    english_vocab_size,\n",
    "    french_vocab_size)\n",
    "print(embedding_rnn_model.summary())\n",
    "embedding_rnn_model.fit(tmp_x, preproc_french_sentences, batch_size=1024, epochs=10, validation_split=0.2)\n",
    "\n",
    "# TODO: Print prediction(s)\n",
    "print(logits_to_text(embedding_rnn_model.predict(tmp_x[:1])[0], french_tokenizer))"
   ]
  },
  {
   "cell_type": "markdown",
   "metadata": {},
   "source": [
    "### Model 3: Bidirectional RNNs (IMPLEMENTATION)\n",
    "![RNN](images/bidirectional.png)\n",
    "One restriction of a RNN is that it can't see the future input, only the past.  This is where bidirectional recurrent neural networks come in.  They are able to see the future data."
   ]
  },
  {
   "cell_type": "code",
   "execution_count": 31,
   "metadata": {},
   "outputs": [
    {
     "name": "stdout",
     "output_type": "stream",
     "text": [
      "_________________________________________________________________\n",
      "Layer (type)                 Output Shape              Param #   \n",
      "=================================================================\n",
      "input_35 (InputLayer)        (None, 21, 1)             0         \n",
      "_________________________________________________________________\n",
      "bidirectional_10 (Bidirectio (None, 21, 800)           964800    \n",
      "_________________________________________________________________\n",
      "time_distributed_27 (TimeDis (None, 21, 344)           275544    \n",
      "_________________________________________________________________\n",
      "activation_27 (Activation)   (None, 21, 344)           0         \n",
      "=================================================================\n",
      "Total params: 1,240,344\n",
      "Trainable params: 1,240,344\n",
      "Non-trainable params: 0\n",
      "_________________________________________________________________\n",
      "None\n",
      "Train on 110288 samples, validate on 27573 samples\n",
      "Epoch 1/10\n",
      "110288/110288 [==============================] - 40s 359us/step - loss: 1.9473 - acc: 0.5648 - val_loss: nan - val_acc: 0.6191\n",
      "Epoch 2/10\n",
      "110288/110288 [==============================] - 38s 346us/step - loss: 1.2801 - acc: 0.6383 - val_loss: nan - val_acc: 0.6542\n",
      "Epoch 3/10\n",
      "110288/110288 [==============================] - 38s 348us/step - loss: 1.1357 - acc: 0.6658 - val_loss: nan - val_acc: 0.6779\n",
      "Epoch 4/10\n",
      "110288/110288 [==============================] - 38s 348us/step - loss: 1.0379 - acc: 0.6848 - val_loss: nan - val_acc: 0.6917\n",
      "Epoch 5/10\n",
      "110288/110288 [==============================] - 38s 348us/step - loss: 0.9642 - acc: 0.6974 - val_loss: nan - val_acc: 0.7051\n",
      "Epoch 6/10\n",
      "110288/110288 [==============================] - 38s 348us/step - loss: 0.9091 - acc: 0.7069 - val_loss: nan - val_acc: 0.7102\n",
      "Epoch 7/10\n",
      "110288/110288 [==============================] - 38s 348us/step - loss: 0.8656 - acc: 0.7145 - val_loss: nan - val_acc: 0.7148\n",
      "Epoch 8/10\n",
      "110288/110288 [==============================] - 38s 349us/step - loss: 0.8277 - acc: 0.7230 - val_loss: nan - val_acc: 0.7279\n",
      "Epoch 9/10\n",
      "110288/110288 [==============================] - 39s 349us/step - loss: 0.7929 - acc: 0.7308 - val_loss: nan - val_acc: 0.7346\n",
      "Epoch 10/10\n",
      "110288/110288 [==============================] - 38s 347us/step - loss: 0.7595 - acc: 0.7407 - val_loss: nan - val_acc: 0.7414\n",
      "new jersey est parfois calme en mars et il est est en en <PAD> <PAD> <PAD> <PAD> <PAD> <PAD> <PAD> <PAD>\n"
     ]
    }
   ],
   "source": [
    "def bd_model(input_shape, output_sequence_length, english_vocab_size, french_vocab_size):\n",
    "    \"\"\"\n",
    "    Build and train a bidirectional RNN model on x and y\n",
    "    :param input_shape: Tuple of input shape\n",
    "    :param output_sequence_length: Length of output sequence\n",
    "    :param english_vocab_size: Number of unique English words in the dataset\n",
    "    :param french_vocab_size: Number of unique French words in the dataset\n",
    "    :return: Keras model built, but not trained\n",
    "    \"\"\"\n",
    "    # TODO: Implement\n",
    "    learning_rate = 1e-3\n",
    "\n",
    "    input_seq = Input(input_shape[1:])\n",
    "    rnn = Bidirectional(GRU(400, return_sequences=True))(input_seq)\n",
    "    logits = TimeDistributed(Dense(french_vocab_size))(rnn)\n",
    "\n",
    "    model = Model(input_seq, Activation('softmax')(logits))\n",
    "    model.compile(loss=sparse_categorical_crossentropy,\n",
    "                  optimizer=Adam(learning_rate),\n",
    "                  metrics=['accuracy'])\n",
    "    \n",
    "    return model\n",
    "tests.test_bd_model(bd_model)\n",
    "\n",
    "\n",
    "# TODO: Train and Print prediction(s)\n",
    "tmp_x = pad(preproc_english_sentences, max_french_sequence_length)\n",
    "tmp_x = tmp_x.reshape((-1, preproc_french_sentences.shape[-2], 1))\n",
    "\n",
    "bidirectional_rnn_model = bd_model(\n",
    "    tmp_x.shape,\n",
    "    max_french_sequence_length,\n",
    "    english_vocab_size,\n",
    "    french_vocab_size)\n",
    "print(bidirectional_rnn_model.summary())\n",
    "bidirectional_rnn_model.fit(tmp_x, preproc_french_sentences, batch_size=1024, epochs=10, validation_split=0.2)\n",
    "\n",
    "print(logits_to_text(bidirectional_rnn_model.predict(tmp_x[:1])[0], french_tokenizer))"
   ]
  },
  {
   "cell_type": "markdown",
   "metadata": {},
   "source": [
    "### Model 4: Encoder-Decoder (OPTIONAL)\n",
    "Time to look at encoder-decoder models.  This model is made up of an encoder and decoder. The encoder creates a matrix representation of the sentence.  The decoder takes this matrix as input and predicts the translation as output.\n",
    "\n",
    "Create an encoder-decoder model in the cell below."
   ]
  },
  {
   "cell_type": "code",
   "execution_count": 21,
   "metadata": {},
   "outputs": [
    {
     "name": "stdout",
     "output_type": "stream",
     "text": [
      "__________________________________________________________________________________________________\n",
      "Layer (type)                    Output Shape         Param #     Connected to                     \n",
      "==================================================================================================\n",
      "input_10 (InputLayer)           (None, 21, 1)        0                                            \n",
      "__________________________________________________________________________________________________\n",
      "lstm_19 (LSTM)                  [(None, 400), (None, 643200      input_10[0][0]                   \n",
      "__________________________________________________________________________________________________\n",
      "repeat_vector_14 (RepeatVector) (None, 21, 400)      0           lstm_19[0][0]                    \n",
      "__________________________________________________________________________________________________\n",
      "lstm_20 (LSTM)                  (None, 21, 400)      1281600     repeat_vector_14[0][0]           \n",
      "                                                                 lstm_19[0][1]                    \n",
      "                                                                 lstm_19[0][2]                    \n",
      "__________________________________________________________________________________________________\n",
      "time_distributed_8 (TimeDistrib (None, 21, 344)      137944      lstm_20[0][0]                    \n",
      "__________________________________________________________________________________________________\n",
      "activation_8 (Activation)       (None, 21, 344)      0           time_distributed_8[0][0]         \n",
      "==================================================================================================\n",
      "Total params: 2,062,744\n",
      "Trainable params: 2,062,744\n",
      "Non-trainable params: 0\n",
      "__________________________________________________________________________________________________\n",
      "None\n",
      "Train on 110288 samples, validate on 27573 samples\n",
      "Epoch 1/10\n",
      "110288/110288 [==============================] - 42s 378us/step - loss: 2.3883 - acc: 0.5029 - val_loss: nan - val_acc: 0.5600\n",
      "Epoch 2/10\n",
      "110288/110288 [==============================] - 41s 369us/step - loss: 1.6193 - acc: 0.5770 - val_loss: nan - val_acc: 0.5913\n",
      "Epoch 3/10\n",
      "110288/110288 [==============================] - 41s 369us/step - loss: 1.4023 - acc: 0.6120 - val_loss: nan - val_acc: 0.6210\n",
      "Epoch 4/10\n",
      "110288/110288 [==============================] - 41s 368us/step - loss: 1.3058 - acc: 0.6267 - val_loss: nan - val_acc: 0.6322\n",
      "Epoch 5/10\n",
      "110288/110288 [==============================] - 41s 369us/step - loss: 1.2565 - acc: 0.6323 - val_loss: nan - val_acc: 0.6143\n",
      "Epoch 6/10\n",
      "110288/110288 [==============================] - 41s 369us/step - loss: 1.1924 - acc: 0.6430 - val_loss: nan - val_acc: 0.6534\n",
      "Epoch 7/10\n",
      "110288/110288 [==============================] - 41s 369us/step - loss: 1.1229 - acc: 0.6550 - val_loss: nan - val_acc: 0.6576\n",
      "Epoch 8/10\n",
      "110288/110288 [==============================] - 41s 368us/step - loss: 1.0937 - acc: 0.6610 - val_loss: nan - val_acc: 0.6724\n",
      "Epoch 9/10\n",
      "110288/110288 [==============================] - 41s 369us/step - loss: 1.0306 - acc: 0.6745 - val_loss: nan - val_acc: 0.6836\n",
      "Epoch 10/10\n",
      "110288/110288 [==============================] - 41s 368us/step - loss: 0.9742 - acc: 0.6879 - val_loss: nan - val_acc: 0.6971\n",
      "new jersey est parfois chaud en mois de mai est il est en <PAD> <PAD> <PAD> <PAD> <PAD> <PAD> <PAD> <PAD>\n"
     ]
    }
   ],
   "source": [
    "def encdec_model(input_shape, output_sequence_length, english_vocab_size, french_vocab_size):\n",
    "    \"\"\"\n",
    "    Build and train an encoder-decoder model on x and y\n",
    "    :param input_shape: Tuple of input shape\n",
    "    :param output_sequence_length: Length of output sequence\n",
    "    :param english_vocab_size: Number of unique English words in the dataset\n",
    "    :param french_vocab_size: Number of unique French words in the dataset\n",
    "    :return: Keras model built, but not trained\n",
    "    \"\"\"\n",
    "    # OPTIONAL: Implement\n",
    "    \n",
    "    from keras.layers import LSTM\n",
    "    \n",
    "    learning_rate = 1e-3\n",
    "    \n",
    "    #Encoder\n",
    "    encoder_input_seq = Input(shape=input_shape[1:])\n",
    "    encoder_output, state_h, state_c = LSTM(units=400, \n",
    "                                  return_sequences=False,\n",
    "                                  return_state=True)(encoder_input_seq)\n",
    "\n",
    "        \n",
    "    #Decoder  \n",
    "    decoder_input_seq = RepeatVector(output_sequence_length)(encoder_output)\n",
    "    decoder_out = LSTM(units=400,\n",
    "                      return_sequences=True,\n",
    "                      return_state=False)(decoder_input_seq, initial_state=[state_h, state_c])\n",
    "    logits = TimeDistributed(Dense(units=french_vocab_size))(decoder_out) \n",
    "    \n",
    "    #Model\n",
    "    model = Model(encoder_input_seq, Activation('softmax')(logits))\n",
    "    model.compile(loss=sparse_categorical_crossentropy,\n",
    "                  optimizer=Adam(lr=learning_rate),\n",
    "                  metrics=['accuracy'])\n",
    "     \n",
    "    return model    \n",
    "\n",
    "tests.test_encdec_model(encdec_model)\n",
    "\n",
    "\n",
    "# OPTIONAL: Train and Print prediction(s)\n",
    "tmp_x = pad(preproc_english_sentences, max_french_sequence_length)\n",
    "tmp_x = tmp_x.reshape((-1, preproc_french_sentences.shape[-2], 1))\n",
    "\n",
    "encdec_rnn_model = encdec_model(\n",
    "    tmp_x.shape,\n",
    "    max_french_sequence_length,\n",
    "    english_vocab_size,\n",
    "    french_vocab_size)\n",
    "print(encdec_rnn_model.summary())\n",
    "encdec_rnn_model.fit(tmp_x, preproc_french_sentences, batch_size=1024, epochs=10, validation_split=0.2)\n",
    "\n",
    "print(logits_to_text(encdec_rnn_model.predict(tmp_x[:1])[0], french_tokenizer))"
   ]
  },
  {
   "cell_type": "markdown",
   "metadata": {},
   "source": [
    "### Model 5: Custom (IMPLEMENTATION)\n",
    "Use everything you learned from the previous models to create a model that incorporates embedding and a bidirectional rnn into one model."
   ]
  },
  {
   "cell_type": "code",
   "execution_count": 13,
   "metadata": {},
   "outputs": [
    {
     "name": "stdout",
     "output_type": "stream",
     "text": [
      "Final Model Loaded\n",
      "__________________________________________________________________________________________________\n",
      "Layer (type)                    Output Shape         Param #     Connected to                     \n",
      "==================================================================================================\n",
      "input_5 (InputLayer)            (None, 21)           0                                            \n",
      "__________________________________________________________________________________________________\n",
      "embedding_5 (Embedding)         (None, 21, 256)      50944       input_5[0][0]                    \n",
      "__________________________________________________________________________________________________\n",
      "lstm_13 (LSTM)                  [(None, 256), (None, 525312      embedding_5[0][0]                \n",
      "__________________________________________________________________________________________________\n",
      "lstm_14 (LSTM)                  [(None, 256), (None, 525312      embedding_5[0][0]                \n",
      "__________________________________________________________________________________________________\n",
      "concatenate_15 (Concatenate)    (None, 512)          0           lstm_13[0][0]                    \n",
      "                                                                 lstm_14[0][0]                    \n",
      "__________________________________________________________________________________________________\n",
      "repeat_vector_5 (RepeatVector)  (None, 21, 512)      0           concatenate_15[0][0]             \n",
      "__________________________________________________________________________________________________\n",
      "concatenate_13 (Concatenate)    (None, 512)          0           lstm_13[0][1]                    \n",
      "                                                                 lstm_14[0][1]                    \n",
      "__________________________________________________________________________________________________\n",
      "concatenate_14 (Concatenate)    (None, 512)          0           lstm_13[0][2]                    \n",
      "                                                                 lstm_14[0][2]                    \n",
      "__________________________________________________________________________________________________\n",
      "lstm_15 (LSTM)                  (None, 21, 512)      2099200     repeat_vector_5[0][0]            \n",
      "                                                                 concatenate_13[0][0]             \n",
      "                                                                 concatenate_14[0][0]             \n",
      "__________________________________________________________________________________________________\n",
      "time_distributed_4 (TimeDistrib (None, 21, 344)      176472      lstm_15[0][0]                    \n",
      "__________________________________________________________________________________________________\n",
      "activation_4 (Activation)       (None, 21, 344)      0           time_distributed_4[0][0]         \n",
      "==================================================================================================\n",
      "Total params: 3,377,240\n",
      "Trainable params: 3,377,240\n",
      "Non-trainable params: 0\n",
      "__________________________________________________________________________________________________\n",
      "None\n",
      "Train on 110288 samples, validate on 27573 samples\n",
      "Epoch 1/10\n",
      "110288/110288 [==============================] - 55s 495us/step - loss: 2.7568 - acc: 0.4630 - val_loss: nan - val_acc: 0.5514\n",
      "Epoch 2/10\n",
      "110288/110288 [==============================] - 54s 487us/step - loss: 1.5652 - acc: 0.5941 - val_loss: nan - val_acc: 0.6387\n",
      "Epoch 3/10\n",
      "110288/110288 [==============================] - 54s 487us/step - loss: 1.2175 - acc: 0.6706 - val_loss: nan - val_acc: 0.7018\n",
      "Epoch 4/10\n",
      "110288/110288 [==============================] - 54s 487us/step - loss: 0.9810 - acc: 0.7216 - val_loss: nan - val_acc: 0.7283\n",
      "Epoch 5/10\n",
      "110288/110288 [==============================] - 54s 488us/step - loss: 0.8283 - acc: 0.7572 - val_loss: nan - val_acc: 0.7799\n",
      "Epoch 6/10\n",
      "110288/110288 [==============================] - 54s 488us/step - loss: 0.6910 - acc: 0.7946 - val_loss: nan - val_acc: 0.8180\n",
      "Epoch 7/10\n",
      "110288/110288 [==============================] - 54s 488us/step - loss: 0.5600 - acc: 0.8355 - val_loss: nan - val_acc: 0.8448\n",
      "Epoch 8/10\n",
      "110288/110288 [==============================] - 54s 488us/step - loss: 0.4447 - acc: 0.8712 - val_loss: nan - val_acc: 0.8866\n",
      "Epoch 9/10\n",
      "110288/110288 [==============================] - 54s 488us/step - loss: 0.3457 - acc: 0.9019 - val_loss: nan - val_acc: 0.9094\n",
      "Epoch 10/10\n",
      "110288/110288 [==============================] - 54s 489us/step - loss: 0.2773 - acc: 0.9221 - val_loss: nan - val_acc: 0.9309\n",
      "new jersey est parfois calme au cours et il est et en avril <PAD> <PAD> <PAD> <PAD> <PAD> <PAD> <PAD> <PAD>\n"
     ]
    }
   ],
   "source": [
    "def model_final(input_shape, output_sequence_length, english_vocab_size, french_vocab_size):\n",
    "    \"\"\"\n",
    "    Build and train a model that incorporates embedding, encoder-decoder, and bidirectional RNN on x and y\n",
    "    :param input_shape: Tuple of input shape\n",
    "    :param output_sequence_length: Length of output sequence\n",
    "    :param english_vocab_size: Number of unique English words in the dataset\n",
    "    :param french_vocab_size: Number of unique French words in the dataset\n",
    "    :return: Keras model built, but not trained\n",
    "    \"\"\"\n",
    "    # TODO: Implement\n",
    "    from keras.layers import LSTM, concatenate\n",
    "    \n",
    "    learning_rate = 1e-3\n",
    "    \n",
    "    #Encoder\n",
    "    encoder_input_seq = Input(shape=input_shape[1:])\n",
    "    encoder_embedding=Embedding(input_dim=english_vocab_size, output_dim=256,input_length=input_shape[1:][0])(encoder_input_seq)\n",
    "    forward_encoder_output, forward_state_h, forward_state_c = LSTM(units=256, \n",
    "                                  return_sequences=False,\n",
    "                                  return_state=True, go_backwards=False)(encoder_embedding)\n",
    "    backward_encoder_output, backward_state_h, backward_state_c = LSTM(units=256, \n",
    "                                  return_sequences=False,\n",
    "                                  return_state=True, go_backwards=True)(encoder_embedding)\n",
    "        \n",
    "    #Decoder  \n",
    "    state_h=concatenate([forward_state_h,backward_state_h])\n",
    "    state_c=concatenate([forward_state_c,backward_state_c])\n",
    "    encoder_output=concatenate([forward_encoder_output,backward_encoder_output])\n",
    "    decoder_input_seq = RepeatVector(output_sequence_length)(encoder_output)\n",
    "    decoder_out = LSTM(units=512,\n",
    "                      return_sequences=True,\n",
    "                      return_state=False)(decoder_input_seq, initial_state=[state_h, state_c])\n",
    "    logits = TimeDistributed(Dense(units=french_vocab_size))(decoder_out) \n",
    "    \n",
    "    #Model\n",
    "    model = Model(encoder_input_seq, Activation('softmax')(logits))\n",
    "    model.compile(loss=sparse_categorical_crossentropy,\n",
    "                  optimizer=Adam(lr=learning_rate),\n",
    "                  metrics=['accuracy'])\n",
    "     \n",
    "    return model    \n",
    "tests.test_model_final(model_final)\n",
    "\n",
    "\n",
    "print('Final Model Loaded')\n",
    "tmp_x = pad(preproc_english_sentences, max_french_sequence_length)\n",
    "#tmp_x = tmp_x.reshape((-1, preproc_french_sentences.shape[-2], 1))\n",
    "\n",
    "final_model = model_final(\n",
    "    tmp_x.shape,\n",
    "    max_french_sequence_length,\n",
    "    english_vocab_size,\n",
    "    french_vocab_size)\n",
    "print(final_model.summary())\n",
    "final_model.fit(tmp_x, preproc_french_sentences, batch_size=1024, epochs=10, validation_split=0.2)\n",
    "\n",
    "print(logits_to_text(final_model.predict(tmp_x[:1])[0], french_tokenizer))"
   ]
  },
  {
   "cell_type": "markdown",
   "metadata": {},
   "source": [
    "## Prediction (IMPLEMENTATION)"
   ]
  },
  {
   "cell_type": "code",
   "execution_count": 14,
   "metadata": {},
   "outputs": [
    {
     "name": "stdout",
     "output_type": "stream",
     "text": [
      "__________________________________________________________________________________________________\n",
      "Layer (type)                    Output Shape         Param #     Connected to                     \n",
      "==================================================================================================\n",
      "input_5 (InputLayer)            (None, 21)           0                                            \n",
      "__________________________________________________________________________________________________\n",
      "embedding_5 (Embedding)         (None, 21, 256)      50944       input_5[0][0]                    \n",
      "__________________________________________________________________________________________________\n",
      "lstm_13 (LSTM)                  [(None, 256), (None, 525312      embedding_5[0][0]                \n",
      "__________________________________________________________________________________________________\n",
      "lstm_14 (LSTM)                  [(None, 256), (None, 525312      embedding_5[0][0]                \n",
      "__________________________________________________________________________________________________\n",
      "concatenate_15 (Concatenate)    (None, 512)          0           lstm_13[0][0]                    \n",
      "                                                                 lstm_14[0][0]                    \n",
      "__________________________________________________________________________________________________\n",
      "repeat_vector_5 (RepeatVector)  (None, 21, 512)      0           concatenate_15[0][0]             \n",
      "__________________________________________________________________________________________________\n",
      "concatenate_13 (Concatenate)    (None, 512)          0           lstm_13[0][1]                    \n",
      "                                                                 lstm_14[0][1]                    \n",
      "__________________________________________________________________________________________________\n",
      "concatenate_14 (Concatenate)    (None, 512)          0           lstm_13[0][2]                    \n",
      "                                                                 lstm_14[0][2]                    \n",
      "__________________________________________________________________________________________________\n",
      "lstm_15 (LSTM)                  (None, 21, 512)      2099200     repeat_vector_5[0][0]            \n",
      "                                                                 concatenate_13[0][0]             \n",
      "                                                                 concatenate_14[0][0]             \n",
      "__________________________________________________________________________________________________\n",
      "time_distributed_4 (TimeDistrib (None, 21, 344)      176472      lstm_15[0][0]                    \n",
      "__________________________________________________________________________________________________\n",
      "activation_4 (Activation)       (None, 21, 344)      0           time_distributed_4[0][0]         \n",
      "==================================================================================================\n",
      "Total params: 3,377,240\n",
      "Trainable params: 3,377,240\n",
      "Non-trainable params: 0\n",
      "__________________________________________________________________________________________________\n",
      "None\n",
      "Train on 110288 samples, validate on 27573 samples\n",
      "Epoch 1/20\n",
      "110288/110288 [==============================] - 59s 538us/step - loss: 2.0157 - acc: 0.5483 - val_loss: 1.2598 - val_acc: 0.6569\n",
      "Epoch 2/20\n",
      "110288/110288 [==============================] - 58s 530us/step - loss: 1.0821 - acc: 0.6992 - val_loss: 0.9143 - val_acc: 0.7388\n",
      "Epoch 3/20\n",
      "110288/110288 [==============================] - 58s 529us/step - loss: 0.8053 - acc: 0.7622 - val_loss: 0.6953 - val_acc: 0.7900\n",
      "Epoch 4/20\n",
      "110288/110288 [==============================] - 58s 530us/step - loss: 0.6080 - acc: 0.8134 - val_loss: 0.5108 - val_acc: 0.8426\n",
      "Epoch 5/20\n",
      "110288/110288 [==============================] - 59s 530us/step - loss: 0.4543 - acc: 0.8591 - val_loss: 0.3875 - val_acc: 0.8812\n",
      "Epoch 6/20\n",
      "110288/110288 [==============================] - 59s 531us/step - loss: 0.3239 - acc: 0.9033 - val_loss: 0.2761 - val_acc: 0.9208\n",
      "Epoch 7/20\n",
      "110288/110288 [==============================] - 58s 530us/step - loss: 0.2341 - acc: 0.9315 - val_loss: 0.2057 - val_acc: 0.9399\n",
      "Epoch 8/20\n",
      "110288/110288 [==============================] - 58s 529us/step - loss: 0.1789 - acc: 0.9467 - val_loss: 0.1686 - val_acc: 0.9489\n",
      "Epoch 9/20\n",
      "110288/110288 [==============================] - 58s 530us/step - loss: 0.1465 - acc: 0.9556 - val_loss: 0.1499 - val_acc: 0.9537\n",
      "Epoch 10/20\n",
      "110288/110288 [==============================] - 58s 530us/step - loss: 0.1212 - acc: 0.9630 - val_loss: 0.1343 - val_acc: 0.9587\n",
      "Epoch 11/20\n",
      "110288/110288 [==============================] - 58s 530us/step - loss: 0.1047 - acc: 0.9678 - val_loss: 0.1126 - val_acc: 0.9657\n",
      "Epoch 12/20\n",
      "110288/110288 [==============================] - 58s 528us/step - loss: 0.0922 - acc: 0.9715 - val_loss: 0.1044 - val_acc: 0.9681\n",
      "Epoch 13/20\n",
      "110288/110288 [==============================] - 58s 527us/step - loss: 0.0825 - acc: 0.9745 - val_loss: 0.0978 - val_acc: 0.9701\n",
      "Epoch 14/20\n",
      "110288/110288 [==============================] - 58s 528us/step - loss: 0.0739 - acc: 0.9771 - val_loss: 0.0811 - val_acc: 0.9752\n",
      "Epoch 15/20\n",
      "110288/110288 [==============================] - 58s 528us/step - loss: 0.0666 - acc: 0.9796 - val_loss: 0.0814 - val_acc: 0.9754\n",
      "Epoch 16/20\n",
      "110288/110288 [==============================] - 58s 526us/step - loss: 0.0651 - acc: 0.9803 - val_loss: 0.2039 - val_acc: 0.9393\n",
      "Epoch 17/20\n",
      "110288/110288 [==============================] - 58s 526us/step - loss: 0.0670 - acc: 0.9796 - val_loss: 0.0734 - val_acc: 0.9776\n",
      "Epoch 18/20\n",
      "110288/110288 [==============================] - 58s 526us/step - loss: 0.0453 - acc: 0.9862 - val_loss: 0.0665 - val_acc: 0.9799\n",
      "Epoch 19/20\n",
      "110288/110288 [==============================] - 58s 528us/step - loss: 0.0417 - acc: 0.9871 - val_loss: 0.0692 - val_acc: 0.9791\n",
      "Epoch 20/20\n",
      "110288/110288 [==============================] - 58s 529us/step - loss: 0.0459 - acc: 0.9859 - val_loss: 0.0704 - val_acc: 0.9790\n",
      "Sample 1:\n",
      "il a vu un vieux camion jaune <PAD> <PAD> <PAD> <PAD> <PAD> <PAD> <PAD> <PAD> <PAD> <PAD> <PAD> <PAD> <PAD> <PAD>\n",
      "Il a vu un vieux camion jaune\n",
      "Sample 2:\n",
      "new jersey est parfois calme pendant l' automne et il est neigeux en avril <PAD> <PAD> <PAD> <PAD> <PAD> <PAD> <PAD>\n",
      "new jersey est parfois calme pendant l' automne et il est neigeux en avril <PAD> <PAD> <PAD> <PAD> <PAD> <PAD> <PAD>\n"
     ]
    }
   ],
   "source": [
    "def final_predictions(x, y, x_tk, y_tk):\n",
    "    \"\"\"\n",
    "    Gets predictions using the final model\n",
    "    :param x: Preprocessed English data\n",
    "    :param y: Preprocessed French data\n",
    "    :param x_tk: English tokenizer\n",
    "    :param y_tk: French tokenizer\n",
    "    \"\"\"\n",
    "    # TODO: Train neural network using model_final\n",
    "    model = model_final(\n",
    "        x.shape,\n",
    "        y.shape[1],\n",
    "        len(x_tk.word_index)+1,\n",
    "        len(y_tk.word_index)+1)\n",
    "    print(final_model.summary())\n",
    "    model.fit(x, y, batch_size=512, epochs=20, validation_split=0.2)\n",
    "\n",
    "    \n",
    "    ## DON'T EDIT ANYTHING BELOW THIS LINE\n",
    "    y_id_to_word = {value: key for key, value in y_tk.word_index.items()}\n",
    "    y_id_to_word[0] = '<PAD>'\n",
    "\n",
    "    sentence = 'he saw a old yellow truck'\n",
    "    sentence = [x_tk.word_index[word] for word in sentence.split()]\n",
    "    sentence = pad_sequences([sentence], maxlen=x.shape[-1], padding='post')\n",
    "    sentences = np.array([sentence[0], x[0]])\n",
    "    predictions = model.predict(sentences, len(sentences))\n",
    "\n",
    "    print('Sample 1:')\n",
    "    print(' '.join([y_id_to_word[np.argmax(x)] for x in predictions[0]]))\n",
    "    print('Il a vu un vieux camion jaune')\n",
    "    print('Sample 2:')\n",
    "    print(' '.join([y_id_to_word[np.argmax(x)] for x in predictions[1]]))\n",
    "    print(' '.join([y_id_to_word[np.max(x)] for x in y[0]]))\n",
    "\n",
    "\n",
    "final_predictions(preproc_english_sentences, preproc_french_sentences, english_tokenizer, french_tokenizer)"
   ]
  },
  {
   "cell_type": "markdown",
   "metadata": {},
   "source": [
    "## Submission\n",
    "When you're ready to submit, complete the following steps:\n",
    "1. Review the [rubric](https://review.udacity.com/#!/rubrics/1004/view) to ensure your submission meets all requirements to pass\n",
    "2. Generate an HTML version of this notebook\n",
    "\n",
    "  - Run the next cell to attempt automatic generation (this is the recommended method in Workspaces)\n",
    "  - Navigate to **FILE -> Download as -> HTML (.html)**\n",
    "  - Manually generate a copy using `nbconvert` from your shell terminal\n",
    "```\n",
    "$ pip install nbconvert\n",
    "$ python -m nbconvert machine_translation.ipynb\n",
    "```\n",
    "  \n",
    "3. Submit the project\n",
    "\n",
    "  - If you are in a Workspace, simply click the \"Submit Project\" button (bottom towards the right)\n",
    "  \n",
    "  - Otherwise, add the following files into a zip archive and submit them \n",
    "  - `helper.py`\n",
    "  - `machine_translation.ipynb`\n",
    "  - `machine_translation.html`\n",
    "    - You can export the notebook by navigating to **File -> Download as -> HTML (.html)**."
   ]
  },
  {
   "cell_type": "markdown",
   "metadata": {},
   "source": [
    "### Generate the html\n",
    "\n",
    "**Save your notebook before running the next cell to generate the HTML output.** Then submit your project."
   ]
  },
  {
   "cell_type": "code",
   "execution_count": 15,
   "metadata": {},
   "outputs": [
    {
     "data": {
      "text/plain": [
       "['[NbConvertApp] Converting notebook machine_translation.ipynb to html',\n",
       " '[NbConvertApp] Writing 385698 bytes to machine_translation.html',\n",
       " '[NbConvertApp] Converting notebook machine_translation-zh.ipynb to html',\n",
       " '[NbConvertApp] Writing 328614 bytes to machine_translation-zh.html']"
      ]
     },
     "execution_count": 15,
     "metadata": {},
     "output_type": "execute_result"
    }
   ],
   "source": [
    "# Save before you run this cell!\n",
    "!!jupyter nbconvert *.ipynb"
   ]
  },
  {
   "cell_type": "markdown",
   "metadata": {},
   "source": [
    "## Optional Enhancements\n",
    "\n",
    "This project focuses on learning various network architectures for machine translation, but we don't evaluate the models according to best practices by splitting the data into separate test & training sets -- so the model accuracy is overstated. Use the [`sklearn.model_selection.train_test_split()`](http://scikit-learn.org/stable/modules/generated/sklearn.model_selection.train_test_split.html) function to create separate training & test datasets, then retrain each of the models using only the training set and evaluate the prediction accuracy using the hold out test set. Does the \"best\" model change?"
   ]
  }
 ],
 "metadata": {
  "kernelspec": {
   "display_name": "Python 3",
   "language": "python",
   "name": "python3"
  },
  "language_info": {
   "codemirror_mode": {
    "name": "ipython",
    "version": 3
   },
   "file_extension": ".py",
   "mimetype": "text/x-python",
   "name": "python",
   "nbconvert_exporter": "python",
   "pygments_lexer": "ipython3",
   "version": "3.6.3"
  }
 },
 "nbformat": 4,
 "nbformat_minor": 1
}
